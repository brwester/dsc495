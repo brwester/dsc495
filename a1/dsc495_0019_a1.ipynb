{
 "cells": [
  {
   "cell_type": "code",
   "execution_count": null,
   "metadata": {
    "deletable": false,
    "editable": false
   },
   "outputs": [],
   "source": [
    "# Initialize Otter\n",
    "import otter\n",
    "grader = otter.Notebook(\"dsc495_0019_a1.ipynb\")"
   ]
  },
  {
   "cell_type": "markdown",
   "metadata": {
    "id": "Z2iI3JeRWGW1"
   },
   "source": [
    "# Assignment 1\n",
    "\n",
    "## Due: Tuesday, January 18, 2022 @ 11:59pm\n",
    "\n",
    "In this assignment we will get familiar with notebooks and some basic Python, including the print functions and variable assignment.\n",
    "\n",
    "I would like you to attempt each level of the assignment. They get progressively harder. To get **full credit** on this assignment, you must complete **Level I** and **Level II**. **Level III** gives you a chance to work with some more advanced printing freatures in Python.\n",
    "\n",
    "## Jupyter notebooks\n",
    "This webpage is called a Jupyter notebook. A notebook is a place to write programs and view their results, and also to write text. For this class, I encourage the use of Notebooks to prototype work. In the future (either later in this class or beyond) you will likely want to write programs designed to run on all by themselves or interactively for end-users. But we generally will skip over that for now.\n",
    "\n",
    "As for working in Notebooks, there are two types of cells (each rectangle containing text or code is called a **cell**): \n",
    "\n",
    " - **code cells** that hold executable code.\n",
    " \n",
    " - **markdown cells** that hold a special kind of text that follows the markdown syntax. To get familiar with the markdown syntax, take a look at this [Markdown Gudie](https://www.markdownguide.org/basic-syntax/). Markdown cells (like this one) can be edited by double-clicking on them. After you edit a text cell, click the \"run cell\" button at the top that looks like ▶| or hold down `shift` + `return` to confirm any changes. \n",
    "\n",
    "   **Note:** Try not to delete the instructions of the assignment.\n",
    "\n",
    "In the markdown cell below enter your name, section, and the date."
   ]
  },
  {
   "cell_type": "markdown",
   "metadata": {
    "id": "xC3V5EVtWGW2"
   },
   "source": [
    "**Name:** \n",
    "\n",
    "**Section:** \n",
    "\n",
    "**Date:**"
   ]
  },
  {
   "cell_type": "markdown",
   "metadata": {
    "id": "2N1S9KPKWGW2"
   },
   "source": [
    "<!-- BEGIN QUESTION -->\n",
    "\n",
    "## Level I\n",
    "\n",
    "**Question 1.** Edit the code blocks below to answer each question with you own answer."
   ]
  },
  {
   "cell_type": "code",
   "execution_count": null,
   "metadata": {
    "id": "NPbgFEvjWGW3",
    "tags": []
   },
   "outputs": [],
   "source": [
    "# One thing to get used to: many programming languages start counting at element 0.\n",
    "# So question 6 is actually the 7th question in the list above.\n",
    "# It will take some time to get used to, expect to make off-by-one errors until this\n",
    "# approach becomes second nature.\n",
    "print(\"Question 0: What is your name?\")\n",
    "print(\"...\")\n",
    "\n",
    "print(\"\\nQuestion 1: What motivated you to take a data science class?\")\n",
    "print(\"...\")\n",
    "\n",
    "print(\"\\nQuestion 2: What do you hope to do once you graduate?\")\n",
    "print(\"...\")\n",
    "\n",
    "print(\"\\nQuestion 3: What do you hope to learn in the class?\")\n",
    "print(\"...\")\n",
    "\n",
    "print(\"\\nQuestion 4: Do you have any concerns about this class that you'd like to share?\")\n",
    "print(\"...\")\n",
    "\n",
    "print(\"\\nQuestion 5: What is your prior programming experience?\")\n",
    "print(\"...\")"
   ]
  },
  {
   "cell_type": "markdown",
   "metadata": {
    "id": "dc0AKfniWGW4"
   },
   "source": [
    "<!-- END QUESTION -->\n",
    "\n",
    "Notice how this print statement uses a special string character: `\\n`. The leading slash `\\` is special - it's called an escape charater. The following character tells python what to do with that escape charater. In our case, the `n` indicates there should be a new line before the rest of the text is printed. There are a number of special charaters you can find in Python. If you ever need to print a backslash, you can use it's own special character sequence: `\\\\`.\n",
    "\n",
    "The backslash can also be used to continue a long line of code. Most standards recommend no more than 80 characters, including spaces, on a single line of code (although I use 88 since most modern monitors are big enough). I only suggest using a continuation backslash if you cannot find a place in your code to split the line neatly. We'll see example of that later in class."
   ]
  },
  {
   "cell_type": "markdown",
   "metadata": {
    "id": "B58AUa5dWGW4"
   },
   "source": [
    "## Level II\n",
    "\n",
    "### Assignment \n",
    "\n",
    "The `=` character is not an equal sign in python. It's used for **assignment**. The name on the left is being assigned the object on the right. In our case, we want to assign a string (a group of characters contained inside quotation marks\") to some variable name.\n",
    "\n",
    "### Variable Names \n",
    "\n",
    "Variable names should be informative so that you know what they mean when you come back to your code. For example, you might forget what `answer_0` means, and without good commenting someone else reading you code will likely be confused too, but `my_name` gives a pretty good indication of what that variable holds.\n",
    "\n",
    "There are also some common conventions on how to name variables. For now, we will primarily use lower case words separated by underscores.\n",
    "\n",
    "### Checking your code\n",
    "Now that you know how to name things, you can start using the built-in tests to check whether your work is correct. Sometimes, there are multiple tests for a single question, and passing all of them is required to receive credit for the question. A test cell will always look like:\n",
    "\n",
    "```\n",
    "grader.check(\"q1\")\n",
    "```\n",
    "\n",
    "Go ahead and attempt **Question 2.** Running the test cell directly after it will test whether you have assigned `my_name` correctly. Sometimes if you make a common error the tests will give hints about what went wrong.\n",
    "\n",
    "Let's practice. "
   ]
  },
  {
   "cell_type": "markdown",
   "metadata": {},
   "source": [
    "**Question 2.** Assign your name to the variable `my_name` by replacing the ellipsis (`...`) with your name in quotation marks, then print your answer to the question. Here's an example:\n",
    "\n",
    "```\n",
    "my_name = \"Mahmoud Harding\"\n",
    "print(\"Question 0: What is your name?\")\n",
    "print(my_name)\n",
    "```\n",
    "\n",
    "You can also put the variable and other text string together in a print function separated by commas, like this:\n",
    "```\n",
    "print(\"Question 0: What is your name?\\n\", my_name)\n",
    "```"
   ]
  },
  {
   "cell_type": "code",
   "execution_count": null,
   "metadata": {
    "tags": []
   },
   "outputs": [],
   "source": [
    "my_name = ...\n",
    "print(\"Question 0. What is your name?\")\n",
    "print(my_name)"
   ]
  },
  {
   "cell_type": "code",
   "execution_count": null,
   "metadata": {
    "deletable": false,
    "editable": false
   },
   "outputs": [],
   "source": [
    "grader.check(\"q2\")"
   ]
  },
  {
   "cell_type": "markdown",
   "metadata": {},
   "source": [
    "### Errors\n",
    "\n",
    "Python is a language, and like natural human languages, it has rules.  It differs from natural language in two important ways:\n",
    "\n",
    "1. The rules are *simple*.  You can learn most of them in a few weeks and gain reasonable proficiency with the language in a semester.\n",
    "\n",
    "2. The rules are *rigid*.  If you're proficient in a natural language, you can understand a non-proficient speaker, glossing over small mistakes.  A computer running Python code is not smart enough to do that.\n",
    "\n",
    "Whenever you write code, you'll make mistakes.  When you run a code cell that has errors, Python will sometimes produce error messages to tell you what you did wrong. Errors are okay; even experienced programmers make many errors.  When you make an error, you just have to find the source of the problem, fix it, and move on.\n",
    "\n",
    "There is an error in the next cell.  Run it and see what happens."
   ]
  },
  {
   "cell_type": "code",
   "execution_count": null,
   "metadata": {},
   "outputs": [],
   "source": [
    "print(\"This line is missing something.\""
   ]
  },
  {
   "cell_type": "markdown",
   "metadata": {},
   "source": [
    "**Note:** In the toolbar, there is the option to click `Run > Run All Cells`, which will run all the code cells in this notebook in order. However, the notebook stops running code cells if it hits an error, like the one in the cell above."
   ]
  },
  {
   "cell_type": "markdown",
   "metadata": {},
   "source": [
    "You should see something like this (minus our annotations):\n",
    "\n",
    "<img src=\"images/error.jpg\" />\n",
    "\n",
    "The last line of the error output attempts to tell you what went wrong.  The *syntax* of a language is its structure, and this `SyntaxError` tells you that you have created an illegal structure.  \"`EOF`\" means \"end of file,\" so the message is saying Python expected you to write something more (in this case, a right parenthesis) before finishing the cell.\n",
    "\n",
    "There's a lot of terminology in programming languages, but you don't need to know it all in order to program effectively. If you see a cryptic message like this, you can often get by without deciphering it. Of course, if you're frustrated, ask a classmate, a TA, or your instructor for help.\n",
    "\n",
    "Try to fix the code below so that you can run the cell and see the intended message instead of an error."
   ]
  },
  {
   "cell_type": "code",
   "execution_count": null,
   "metadata": {},
   "outputs": [],
   "source": [
    "print(\"This line is missing something.\""
   ]
  },
  {
   "cell_type": "markdown",
   "metadata": {
    "id": "B58AUa5dWGW4"
   },
   "source": [
    "## Level III\n",
    "\n",
    "Python offers a variety of ways to print, so let's explore two of them. They are the `.format()` and `f-string` methods. Both of these methods give you a greater degree of control over print formatting, especially when dealing with a lot of variables in a single print statement. \n",
    "\n",
    "What these methods have in common is the use of curly brackets `{}` used as placeholders where a variable will be printed inside the string.\n",
    "\n",
    "With `.format()`, the curly brackets in the string are empty, and the format function holds the variable(s) that are to be printed at each curly bracket. If the number of variables in the function does *not* match the number of curly brackets, an error will be given.\n",
    "\n",
    "```\n",
    "my_name = \"Mahmoud\"\n",
    "print(\"Question 0: What is your name?\\n{}\".format(my_name))\n",
    "```\n",
    "\n",
    "The `f-string` approach requires us to put the letter f before the opening quotation mark. The actual variable name is then put inside the curly brackets.\n",
    "\n",
    "```\n",
    "my_name = \"Mahmoud\"\n",
    "print(f\"Question 0: What is your name?\\n{my_name}\")\n",
    "```"
   ]
  },
  {
   "cell_type": "markdown",
   "metadata": {},
   "source": [
    "**Question 3.** Copy your code block from **Question 2.** where you assign you answers to variables and practice printing your answers with `.format()`."
   ]
  },
  {
   "cell_type": "code",
   "execution_count": null,
   "metadata": {
    "tags": []
   },
   "outputs": [],
   "source": [
    "my_name = \"...\"\n",
    "print(\"Question 0. What is your name?\\n{}\".format(...))"
   ]
  },
  {
   "cell_type": "code",
   "execution_count": null,
   "metadata": {
    "deletable": false,
    "editable": false
   },
   "outputs": [],
   "source": [
    "grader.check(\"q3\")"
   ]
  },
  {
   "cell_type": "markdown",
   "metadata": {},
   "source": [
    "**Question 4.** Copy your code block from **Question 2.** where you assign you answers to variables and practice printing your answers with `f-strings`."
   ]
  },
  {
   "cell_type": "code",
   "execution_count": null,
   "metadata": {
    "tags": []
   },
   "outputs": [],
   "source": [
    "my_name = \"...\"\n",
    "print(f\"Question 0: What is your name?\\n{...}\")"
   ]
  },
  {
   "cell_type": "code",
   "execution_count": null,
   "metadata": {
    "deletable": false,
    "editable": false
   },
   "outputs": [],
   "source": [
    "grader.check(\"q4\")"
   ]
  },
  {
   "cell_type": "markdown",
   "metadata": {
    "deletable": false,
    "editable": false
   },
   "source": [
    "## Submission\n",
    "\n",
    "Make sure you have run all cells in your notebook in order before running the cell below, so that all images/graphs appear in the output. The cell below will generate a zip file for you to submit. **Please save before exporting!**\n",
    "\n",
    "When done exporting, download the .zip file by finding it in the file browswer on the left side of the screen, then right-click and select **Download**. You'll submit this .zip file for the assignment in Canvas to Gradescope for grading."
   ]
  },
  {
   "cell_type": "code",
   "execution_count": null,
   "metadata": {
    "deletable": false,
    "editable": false
   },
   "outputs": [],
   "source": [
    "# Save your notebook first, then run this cell to export your submission.\n",
    "grader.export(pdf=False)"
   ]
  },
  {
   "cell_type": "markdown",
   "metadata": {},
   "source": [
    " "
   ]
  }
 ],
 "metadata": {
  "colab": {
   "name": "dsc495-001_a1.ipynb",
   "provenance": []
  },
  "interpreter": {
   "hash": "f91f805faaffa1c8e7a5610c1cf2edd291213a99bec4fda7ea9086a30992b637"
  },
  "kernelspec": {
   "display_name": "DSC495",
   "language": "python",
   "name": "dsc495"
  },
  "language_info": {
   "codemirror_mode": {
    "name": "ipython",
    "version": 3
   },
   "file_extension": ".py",
   "mimetype": "text/x-python",
   "name": "python",
   "nbconvert_exporter": "python",
   "pygments_lexer": "ipython3",
   "version": "3.10.1"
  },
  "otter": {
   "tests": {
    "q2": {
     "name": "q2",
     "points": null,
     "suites": [
      {
       "cases": [
        {
         "code": ">>> type(my_name) == str\nTrue",
         "hidden": false,
         "locked": false
        }
       ],
       "scored": true,
       "setup": "",
       "teardown": "",
       "type": "doctest"
      }
     ]
    },
    "q3": {
     "name": "q3",
     "points": null,
     "suites": [
      {
       "cases": [
        {
         "code": ">>> type(my_name) == str\nTrue",
         "hidden": false,
         "locked": false
        }
       ],
       "scored": true,
       "setup": "",
       "teardown": "",
       "type": "doctest"
      }
     ]
    },
    "q4": {
     "name": "q4",
     "points": null,
     "suites": [
      {
       "cases": [
        {
         "code": ">>> isinstance(my_name, str)\nTrue",
         "hidden": false,
         "locked": false
        }
       ],
       "scored": true,
       "setup": "",
       "teardown": "",
       "type": "doctest"
      }
     ]
    }
   }
  }
 },
 "nbformat": 4,
 "nbformat_minor": 4
}
