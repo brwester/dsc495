{
 "cells": [
  {
   "cell_type": "code",
   "execution_count": null,
   "metadata": {
    "deletable": false,
    "editable": false
   },
   "outputs": [],
   "source": [
    "# Initialize Otter\n",
    "import otter\n",
    "grader = otter.Notebook(\"week-4.ipynb\")"
   ]
  },
  {
   "cell_type": "markdown",
   "metadata": {},
   "source": [
    "# Week 4 Lecture Notebook\n",
    "\n",
    "## List Comprehension\n",
    "\n",
    "List comprehension offers a shorter syntax when you want to create a new list based on the values of an existing list."
   ]
  },
  {
   "cell_type": "code",
   "execution_count": null,
   "metadata": {},
   "outputs": [],
   "source": [
    "programming_languages = [\"python\", \"R\", \"julia\", \n",
    "                         \"Java\", \"C\", \"C#\", \"C++\", \n",
    "                         \"java script\", \"go\", \"swift\"]\n",
    "\n",
    "# Initialize empty list\n",
    "my_list = []\n",
    "\n",
    "for word in programming_languages: # Iterate through each word in the list\n",
    "    if \"a\" not in word:            # Iterate through each letter in the word\n",
    "        my_list.append(word)       # Add the word to the list if there is no \"a\"\n",
    "my_list"
   ]
  },
  {
   "cell_type": "markdown",
   "metadata": {},
   "source": [
    "We can check to see if there are any vowels in each word in the `programming_languages` list."
   ]
  },
  {
   "cell_type": "code",
   "execution_count": null,
   "metadata": {},
   "outputs": [],
   "source": [
    "# Initialize empty list\n",
    "my_list = []\n",
    "\n",
    "# Create a list of vowels\n",
    "vowels = [\"a\", \"e\", \"i\", \"o\", \"u\"]\n",
    "\n",
    "for word in programming_languages:                   # Iterate through each word in the list\n",
    "    if not any(letter in vowels for letter in word): # Iterate through each letter in the word and see if its a vowel\n",
    "        my_list.append(word)                         # Add the word to the list if it does not contain a vowel\n",
    "\n",
    "print(my_list)"
   ]
  },
  {
   "cell_type": "markdown",
   "metadata": {},
   "source": [
    "With list comprehension you can do all that with only one line of code."
   ]
  },
  {
   "cell_type": "markdown",
   "metadata": {},
   "source": [
    "<!-- BEGIN QUESTION -->\n",
    "\n",
    "**Example 1.** Let's practice list comprehension."
   ]
  },
  {
   "cell_type": "code",
   "execution_count": null,
   "metadata": {
    "tags": []
   },
   "outputs": [],
   "source": [
    "import numpy as np\n",
    "\n",
    "# Create a list of the first 10 odd integers\n",
    "my_odd_integers = ...\n",
    "\n",
    "# Create a list of the programming languages\n",
    "my_languages = ...\n",
    "\n",
    "# Create a list of words without \"a\" from the programming languages list\n",
    "no_a_list = ...\n",
    "\n",
    "# Create a list of words without vowels from the programming languages list\n",
    "no_vowel_list = ...\n",
    "\n",
    "print(\"My odd integers list:\", my_odd_integers)\n",
    "print(\"My list:\", my_list)\n",
    "print(\"My no a list:\", no_a_list)\n",
    "print(\"My no vowel list:\", no_vowel_list)"
   ]
  },
  {
   "cell_type": "markdown",
   "metadata": {},
   "source": [
    "<!-- END QUESTION -->\n",
    "\n",
    "## `Pandas`\n",
    "\n",
    "####  `.loc`\n",
    "\n",
    "The `.loc` property is used to select a **group** of rows and columns by label(s) or a boolean array. The `.loc` method is primarily label based, but can be used with a boolean array.\n",
    "\n",
    "Allowed inputs are:\n",
    "\n",
    "* A single label, e.g. `5` (interpreted as a label of the index, and never as an integer position along the index) or `'a'`.\n",
    "\n",
    "* A list or array of labels, e.g. `['a', 'b', 'c']`.\n",
    "\n",
    "* A slice object with labels, e.g. `'a':'f'`.\n",
    "\n",
    "* A boolean array of the same length as the axis being sliced, e.g. `[True, False, True]`.\n",
    "\n",
    "Run the cell below to load `pandas`."
   ]
  },
  {
   "cell_type": "code",
   "execution_count": null,
   "metadata": {},
   "outputs": [],
   "source": [
    "import pandas as pd"
   ]
  },
  {
   "cell_type": "markdown",
   "metadata": {},
   "source": [
    "Do you believe in UFOs? How many reported sigthings would have to occur before you believe UFOs really existed?\n",
    "\n",
    "Run the cell below to load the `ufo.csv` file."
   ]
  },
  {
   "cell_type": "code",
   "execution_count": null,
   "metadata": {},
   "outputs": [],
   "source": [
    "ufo = pd.read_csv('data/ufo.csv')\n",
    "ufo"
   ]
  },
  {
   "cell_type": "markdown",
   "metadata": {},
   "source": [
    "<!-- BEGIN QUESTION -->\n",
    "\n",
    "**Example 2.** What are all the locations where a sighting took place?"
   ]
  },
  {
   "cell_type": "code",
   "execution_count": null,
   "metadata": {
    "tags": []
   },
   "outputs": [],
   "source": [
    "# Using df.column_name and the unique method\n",
    "..."
   ]
  },
  {
   "cell_type": "code",
   "execution_count": null,
   "metadata": {
    "tags": []
   },
   "outputs": [],
   "source": [
    "# Using bracket notation\n",
    "..."
   ]
  },
  {
   "cell_type": "code",
   "execution_count": null,
   "metadata": {
    "tags": []
   },
   "outputs": [],
   "source": [
    "# Using bracket notation and the .value_counts method\n",
    "ufo['State'].value_counts()"
   ]
  },
  {
   "cell_type": "markdown",
   "metadata": {},
   "source": [
    "<!-- END QUESTION -->\n",
    "\n",
    "**Example 3.** Let's look at the column names."
   ]
  },
  {
   "cell_type": "code",
   "execution_count": null,
   "metadata": {},
   "outputs": [],
   "source": [
    "ufo.columns"
   ]
  },
  {
   "cell_type": "markdown",
   "metadata": {},
   "source": [
    "**Example 4.** We can use `.loc` to select the first row. A `Series` is returned with the column name as the index."
   ]
  },
  {
   "cell_type": "code",
   "execution_count": null,
   "metadata": {},
   "outputs": [],
   "source": [
    "# Single bracket notation returns a Series\n",
    "ufo.loc[0]"
   ]
  },
  {
   "cell_type": "markdown",
   "metadata": {},
   "source": [
    "**Exmaple 5.** What is we want to return a `DataFrame`."
   ]
  },
  {
   "cell_type": "code",
   "execution_count": null,
   "metadata": {},
   "outputs": [],
   "source": [
    "# Double bracket notation returns a DataFrame\n",
    "ufo.loc[[0]]"
   ]
  },
  {
   "cell_type": "markdown",
   "metadata": {},
   "source": [
    "**Example 6.** Return the first three rows."
   ]
  },
  {
   "cell_type": "code",
   "execution_count": null,
   "metadata": {},
   "outputs": [],
   "source": [
    "# Rows 1, 2, and 3\n",
    "ufo.loc[0:2]"
   ]
  },
  {
   "cell_type": "markdown",
   "metadata": {},
   "source": [
    "**Example 7.** We can use a row slice and choose a column by name."
   ]
  },
  {
   "cell_type": "code",
   "execution_count": null,
   "metadata": {},
   "outputs": [],
   "source": [
    "# Rows 1, 2, and 3, and only the City column. Reutrns a Series.\n",
    "ufo.loc[0:2, 'City']"
   ]
  },
  {
   "cell_type": "code",
   "execution_count": null,
   "metadata": {},
   "outputs": [],
   "source": [
    "# Rows 1, 2, and 3, and only the City column. Reutrns a DataFrame.\n",
    "ufo.loc[0:2, ['City']]"
   ]
  },
  {
   "cell_type": "markdown",
   "metadata": {},
   "source": [
    "**Example 8.** We can use a row slice and choose multiple columns by name."
   ]
  },
  {
   "cell_type": "code",
   "execution_count": null,
   "metadata": {},
   "outputs": [],
   "source": [
    "# Rows 1, 2, and 3, and the City and State columns. Reutrns a DataFrame.\n",
    "ufo.loc[0:2, ['City', 'State']]"
   ]
  },
  {
   "cell_type": "markdown",
   "metadata": {},
   "source": [
    "This uses `.loc`."
   ]
  },
  {
   "cell_type": "code",
   "execution_count": null,
   "metadata": {},
   "outputs": [],
   "source": [
    "ufo.loc[0:, ['City', 'State']]"
   ]
  },
  {
   "cell_type": "markdown",
   "metadata": {},
   "source": [
    "A simplified version of the previous command."
   ]
  },
  {
   "cell_type": "code",
   "execution_count": null,
   "metadata": {},
   "outputs": [],
   "source": [
    "ufo[['City', 'State']]"
   ]
  },
  {
   "cell_type": "markdown",
   "metadata": {},
   "source": [
    "Let's set the index to the `State`."
   ]
  },
  {
   "cell_type": "code",
   "execution_count": null,
   "metadata": {},
   "outputs": [],
   "source": [
    "ufo_state = ufo.set_index('State')\n",
    "ufo_state.head()"
   ]
  },
  {
   "cell_type": "markdown",
   "metadata": {},
   "source": [
    "Now we can slice the rows by the index.\n",
    "\n",
    "**Example 9.** Find all the rows where the state is North Carolins."
   ]
  },
  {
   "cell_type": "code",
   "execution_count": null,
   "metadata": {},
   "outputs": [],
   "source": [
    "# Using .loc we can slice by index name and colum name\n",
    "ufo_state.loc['NC', ['City']]"
   ]
  },
  {
   "cell_type": "markdown",
   "metadata": {},
   "source": [
    "## `Pandas`\n",
    "\n",
    "#### `.iloc`\n",
    "\n",
    "With the `.iloc` function, we can retrieve rows and column using the index values assigned to it. The `.iloc` function accepts only integer type values as the index values for the values of the rows and columns to be accessed and displayed."
   ]
  },
  {
   "cell_type": "markdown",
   "metadata": {},
   "source": [
    "**Exmaple 10.**  Select the first three rows and the first column. Return a dataframe."
   ]
  },
  {
   "cell_type": "code",
   "execution_count": null,
   "metadata": {},
   "outputs": [],
   "source": [
    "# Use .iloc to select the first three rows and the first column. \n",
    "# Return a dataframe.\n",
    "ufo.iloc[0:3, [0]]"
   ]
  },
  {
   "cell_type": "code",
   "execution_count": null,
   "metadata": {},
   "outputs": [],
   "source": [
    "# Use .iloc to select the first three rows and the City and State columns. \n",
    "# Return a dataframe.\n",
    "ufo.iloc[0:3, [0, 3]]"
   ]
  },
  {
   "cell_type": "markdown",
   "metadata": {},
   "source": [
    "## `Pandas`\n",
    "\n",
    "#### `.groupby`"
   ]
  },
  {
   "cell_type": "markdown",
   "metadata": {},
   "source": [
    "Pandas provide a `.groupby` function that operates on a `DataFrame` object. It can take one or multiple columns (as a list) to group the data and returns a `GroupBy` object."
   ]
  },
  {
   "cell_type": "code",
   "execution_count": null,
   "metadata": {},
   "outputs": [],
   "source": [
    "ufo.groupby('State')"
   ]
  },
  {
   "cell_type": "markdown",
   "metadata": {},
   "source": [
    "We can aggregate using one or more operations over a specified axis."
   ]
  },
  {
   "cell_type": "code",
   "execution_count": null,
   "metadata": {},
   "outputs": [],
   "source": [
    "# This returns the count of all columns with the state as the index\n",
    "ufo.groupby('State').count()"
   ]
  },
  {
   "cell_type": "code",
   "execution_count": null,
   "metadata": {},
   "outputs": [],
   "source": [
    "# This returns the count of all columns with integers as the index\n",
    "..."
   ]
  },
  {
   "cell_type": "code",
   "execution_count": null,
   "metadata": {},
   "outputs": [],
   "source": [
    "# This returns the count of all columns with integers as the index\n",
    "# then we select the State and City\n",
    "# then rename the columns\n",
    "..."
   ]
  },
  {
   "cell_type": "code",
   "execution_count": null,
   "metadata": {},
   "outputs": [],
   "source": [
    "weight = pd.read_csv('data/baby.csv')\n",
    "weight"
   ]
  },
  {
   "cell_type": "markdown",
   "metadata": {},
   "source": [
    "The aggregation functions can be found [here](https://cmdlinetips.com/2019/10/pandas-groupby-13-functions-to-aggregate/)."
   ]
  },
  {
   "cell_type": "code",
   "execution_count": null,
   "metadata": {},
   "outputs": [],
   "source": [
    "weight.groupby('Maternal Smoker', as_index=False).mean()"
   ]
  },
  {
   "cell_type": "code",
   "execution_count": null,
   "metadata": {},
   "outputs": [],
   "source": [
    "weight.groupby('Maternal Smoker').agg({'Birth Weight': 'mean', 'Maternal Age':'max'})"
   ]
  },
  {
   "cell_type": "code",
   "execution_count": null,
   "metadata": {},
   "outputs": [],
   "source": [
    "weight.groupby('Maternal Smoker').agg({'Birth Weight': ['mean', 'max']})"
   ]
  },
  {
   "cell_type": "markdown",
   "metadata": {},
   "source": [
    "## Dictionary\n",
    "\n",
    "A dictionary is an unordered and mutable Python container that stores mappings of unique keys to values. Dictionaries are written with curly brackets (`{ }`), including key-value pairs separated by commas (`,`). A colon (`:`) separates each key from its value."
   ]
  },
  {
   "cell_type": "code",
   "execution_count": null,
   "metadata": {},
   "outputs": [],
   "source": [
    "country_capitals = {\"USA\":\"Washington D.C.\", \"France\":\"Paris\", \"India\":\"New Delhi\"}\n",
    "country_capitals"
   ]
  },
  {
   "cell_type": "code",
   "execution_count": null,
   "metadata": {},
   "outputs": [],
   "source": [
    "conferences  = {\"ACC\": [\"Boston College\", \"Clemson\", \"Duke\", \"Georgia Tech\", \n",
    "                        \"Florida State\", \"NC State\", \"Syracuse\", \"Louisville\", \n",
    "                        \"Miami\", \"UNC\", \"Notre Dame\", \"Pittsburgh\", \"Virginia\", \n",
    "                        \"Virginia Tech\", \"Wake Forest\"],\n",
    "               \"CIAA\": [\"Bowie State\", \"Chowan\", \"Claflin\", \"Elizabeth City State\", \"Fayetteville State\",\n",
    "                       \"Johnson C Smith\", \"Lincoln\", \"Livingston\", \"Shaw\", \"St. Augustine\", \"Virginia State\",\n",
    "                       \"Virginia Union\", \"Winston Salem State\"]\n",
    "               }\n",
    "conferences"
   ]
  },
  {
   "cell_type": "markdown",
   "metadata": {},
   "source": [
    "**Example 11.** We can append key:value pairs to a dictionary."
   ]
  },
  {
   "cell_type": "code",
   "execution_count": null,
   "metadata": {},
   "outputs": [],
   "source": [
    "country_capitals[\"UAE\"] = \"Abu Dhabi\"\n",
    "country_capitals"
   ]
  },
  {
   "cell_type": "code",
   "execution_count": null,
   "metadata": {},
   "outputs": [],
   "source": [
    "nfc = {}\n",
    "nfc['south'] = ['Panthers']\n",
    "nfc"
   ]
  },
  {
   "cell_type": "code",
   "execution_count": null,
   "metadata": {},
   "outputs": [],
   "source": [
    "# Append Falcons to the list\n",
    "...\n",
    "nfc"
   ]
  },
  {
   "cell_type": "code",
   "execution_count": null,
   "metadata": {},
   "outputs": [],
   "source": [
    "# Extend multiple items to a list\n",
    "# Add the Buccaneers and Saints to the list\n",
    "...\n",
    "nfc"
   ]
  },
  {
   "cell_type": "markdown",
   "metadata": {},
   "source": [
    "**Example 12.** We combine two lists into a dictionary using the`dict` and `zip` function.\n",
    "\n",
    "The `zip()` function returns a zip object, which is an iterator of [tuples](https://www.geeksforgeeks.org/python-tuples/) where the first item in each passed iterator is paired together, and then the second item in each passed iterator are paired together etc."
   ]
  },
  {
   "cell_type": "code",
   "execution_count": null,
   "metadata": {},
   "outputs": [],
   "source": [
    "# A tuple\n",
    "my_tuple = (1, 3, 5, 7, 9)\n",
    "my_tuple"
   ]
  },
  {
   "cell_type": "code",
   "execution_count": null,
   "metadata": {},
   "outputs": [],
   "source": [
    "keys = ['a', 'b', 'c']\n",
    "values = [1, 2, 3]\n",
    "\n",
    "zip(keys, values)"
   ]
  },
  {
   "cell_type": "code",
   "execution_count": null,
   "metadata": {},
   "outputs": [],
   "source": [
    "my_dictionary = dict(zip(keys, values))\n",
    "my_dictionary"
   ]
  },
  {
   "cell_type": "markdown",
   "metadata": {
    "deletable": false,
    "editable": false
   },
   "source": [
    "## Submission\n",
    "\n",
    "Make sure you have run all cells in your notebook in order before running the cell below, so that all images/graphs appear in the output. The cell below will generate a zip file for you to submit. **Please save before exporting!**\n",
    "\n",
    "When done exporting, download the .zip file by finding it in the file browswer on the left side of the screen, then right-click and select **Download**. You'll submit this .zip file for the assignment in Canvas to Gradescope for grading."
   ]
  },
  {
   "cell_type": "code",
   "execution_count": null,
   "metadata": {
    "deletable": false,
    "editable": false
   },
   "outputs": [],
   "source": [
    "# Save your notebook first, then run this cell to export your submission.\n",
    "grader.export(pdf=False)"
   ]
  },
  {
   "cell_type": "markdown",
   "metadata": {},
   "source": [
    " "
   ]
  }
 ],
 "metadata": {
  "kernelspec": {
   "display_name": "Python 3",
   "language": "python",
   "name": "python3"
  },
  "language_info": {
   "codemirror_mode": {
    "name": "ipython",
    "version": 3
   },
   "file_extension": ".py",
   "mimetype": "text/x-python",
   "name": "python",
   "nbconvert_exporter": "python",
   "pygments_lexer": "ipython3",
   "version": "3.7.9"
  }
 },
 "nbformat": 4,
 "nbformat_minor": 5
}
