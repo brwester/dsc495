{
 "cells": [
  {
   "cell_type": "code",
   "execution_count": null,
   "metadata": {
    "deletable": false,
    "editable": false
   },
   "outputs": [],
   "source": [
    "# Initialize Otter\n",
    "import otter\n",
    "grader = otter.Notebook(\"week-3.ipynb\")"
   ]
  },
  {
   "cell_type": "markdown",
   "metadata": {},
   "source": [
    "# Week 3 Lecture Notebook\n",
    "\n",
    "### `NumPy`\n",
    "\n",
    "####  `np.arange`\n",
    "\n",
    "Arrays are provided by a package called [NumPy](http://www.numpy.org/) (pronounced \"NUM-pie\"). The package is called `numpy`, but it's standard to rename it `np` for brevity.  You can do that with:\n",
    "\n",
    "    import numpy as np\n",
    "\n",
    "NumPy provides a special function for this called `arange`.  The line of code `np.arange(start, stop, step)` evaluates to an array with all the numbers starting at `start` and counting up by `step`, stopping **before** `stop` is reached.\n",
    "\n",
    "Run the following cells to see some examples."
   ]
  },
  {
   "cell_type": "code",
   "execution_count": null,
   "metadata": {},
   "outputs": [],
   "source": [
    "import numpy as np"
   ]
  },
  {
   "cell_type": "code",
   "execution_count": null,
   "metadata": {},
   "outputs": [],
   "source": [
    "# Create an array that starts at 1 and count up by 2\n",
    "# and then stops before 20\n",
    "np.arange(1, 20, 2)"
   ]
  },
  {
   "cell_type": "markdown",
   "metadata": {},
   "source": [
    "This array doesn't contain 20 because `np.arange` stops before the stop value is reached."
   ]
  },
  {
   "cell_type": "markdown",
   "metadata": {},
   "source": [
    "We've done elementwise arithmetic with a `NumPy` array. We can also use `NumPy ` functions on a `pnadas` `Series`. This is because a `pandas` `Series` is a generalized array. The essential difference is the presence of the index: while the `Numpy` array has an implicitly defined integer index used to access the values, the `pandas` `Series` has an explicitly defined index associated with the values."
   ]
  },
  {
   "cell_type": "code",
   "execution_count": null,
   "metadata": {},
   "outputs": [],
   "source": [
    "first_100_odd_numbers = np.arange(1, 100, 2)\n",
    "first_100_odd_numbers"
   ]
  },
  {
   "cell_type": "code",
   "execution_count": null,
   "metadata": {},
   "outputs": [],
   "source": [
    "first_100_odd_numbers[1]"
   ]
  },
  {
   "cell_type": "markdown",
   "metadata": {},
   "source": [
    "### `Pandas`\n",
    "\n",
    "####  Slicing"
   ]
  },
  {
   "cell_type": "code",
   "execution_count": null,
   "metadata": {},
   "outputs": [],
   "source": [
    "import pandas as pd\n",
    "nc_ceo_totalpay = pd.read_csv('data/nc-ceo-total-pay.csv')\n",
    "nc_ceo_totalpay"
   ]
  },
  {
   "cell_type": "markdown",
   "metadata": {},
   "source": [
    "If we slect the column name `Total Pay` using `[ ]` notation we get a `Series`."
   ]
  },
  {
   "cell_type": "code",
   "execution_count": null,
   "metadata": {},
   "outputs": [],
   "source": [
    "nc_ceo_totalpay['Total Pay']"
   ]
  },
  {
   "cell_type": "markdown",
   "metadata": {},
   "source": [
    "We can use `numpy` functions on a `Series`."
   ]
  },
  {
   "cell_type": "code",
   "execution_count": null,
   "metadata": {},
   "outputs": [],
   "source": [
    "mean_totalpay = np.mean(nc_ceo_totalpay['Total Pay'])\n",
    "mean_totalpay"
   ]
  },
  {
   "cell_type": "markdown",
   "metadata": {},
   "source": [
    "We can use the `np.round` function on a float type."
   ]
  },
  {
   "cell_type": "code",
   "execution_count": null,
   "metadata": {},
   "outputs": [],
   "source": [
    "np.round(mean_totalpay)"
   ]
  },
  {
   "cell_type": "markdown",
   "metadata": {},
   "source": [
    "**Example 1.** Select all the companies that are located in Charlotte. Return a `DataFrame`."
   ]
  },
  {
   "cell_type": "code",
   "execution_count": null,
   "metadata": {
    "tags": []
   },
   "outputs": [],
   "source": [
    "char_ceo_totalpay = ...\n",
    "char_ceo_totalpay"
   ]
  },
  {
   "cell_type": "code",
   "execution_count": null,
   "metadata": {
    "deletable": false,
    "editable": false
   },
   "outputs": [],
   "source": [
    "grader.check(\"e1\")"
   ]
  },
  {
   "cell_type": "markdown",
   "metadata": {},
   "source": [
    "**Example 2.** Select all the companies that are located in Charlotte and Greensboro. Return a `DataFrame`."
   ]
  },
  {
   "cell_type": "code",
   "execution_count": null,
   "metadata": {
    "tags": []
   },
   "outputs": [],
   "source": [
    "char_gso_ceo_totalpay = ...\n",
    "char_gso_ceo_totalpay"
   ]
  },
  {
   "cell_type": "code",
   "execution_count": null,
   "metadata": {
    "deletable": false,
    "editable": false
   },
   "outputs": [],
   "source": [
    "grader.check(\"e2\")"
   ]
  },
  {
   "cell_type": "markdown",
   "metadata": {},
   "source": [
    "**Example 3.** Select all the companies that pay the CEO more than 1 million in total pay."
   ]
  },
  {
   "cell_type": "code",
   "execution_count": null,
   "metadata": {
    "tags": []
   },
   "outputs": [],
   "source": [
    "nc_ceo_million = ...\n",
    "nc_ceo_million"
   ]
  },
  {
   "cell_type": "code",
   "execution_count": null,
   "metadata": {
    "deletable": false,
    "editable": false
   },
   "outputs": [],
   "source": [
    "grader.check(\"e3\")"
   ]
  },
  {
   "cell_type": "markdown",
   "metadata": {},
   "source": [
    "### Loops\n",
    "\n",
    "####  `for`"
   ]
  },
  {
   "cell_type": "code",
   "execution_count": null,
   "metadata": {},
   "outputs": [],
   "source": [
    "for number in range(5):\n",
    "    print(number)"
   ]
  },
  {
   "cell_type": "code",
   "execution_count": null,
   "metadata": {},
   "outputs": [],
   "source": [
    "for number in np.arange(5):\n",
    "    print(number)"
   ]
  },
  {
   "cell_type": "code",
   "execution_count": null,
   "metadata": {},
   "outputs": [],
   "source": [
    "my_string = \"N. C. State Wolfpack\"\n",
    "\n",
    "for character in my_string:\n",
    "    print(character)"
   ]
  },
  {
   "cell_type": "markdown",
   "metadata": {},
   "source": [
    "Suppose we wanted to count the number of characters in `my_string`."
   ]
  },
  {
   "cell_type": "code",
   "execution_count": null,
   "metadata": {},
   "outputs": [],
   "source": [
    "character_count = 0\n",
    "\n",
    "for character in my_string:\n",
    "    character_count += 1\n",
    "\n",
    "print('There are', character_count, 'characters in my_string.')"
   ]
  },
  {
   "cell_type": "markdown",
   "metadata": {},
   "source": [
    "Suppose we only wanted to count the letters in `my_string`.\n",
    "\n",
    "To do this we would need a way to\n",
    "\n",
    "1. remove the spaces\n",
    "\n",
    "2. check to see if the character is a letter of the alphabet\n",
    "\n",
    "In other words we need to use a conditional statement.\n",
    "\n",
    "### Condtional Statements\n",
    "\n",
    "#### `if`, `else`, and `elif`"
   ]
  },
  {
   "cell_type": "code",
   "execution_count": null,
   "metadata": {},
   "outputs": [],
   "source": [
    "gpa = 3.26\n",
    "\n",
    "if gpa > 3.25:\n",
    "    print(\"Cum Laude\")"
   ]
  },
  {
   "cell_type": "markdown",
   "metadata": {},
   "source": [
    "According to the [NC State undergraduate catalog](http://catalog.ncsu.edu/undergraduate/academic-policies-procedures/student-status-honors/academic-honors/) \n",
    "\n",
    "    Students with exceptional academic performance may be recognized in the following ways at the university level.\n",
    "    \n",
    "**Graduation with Honors**\n",
    "\n",
    "Undergraduate degree honor designations are:\n",
    "\n",
    "* **Cum Laude** for GPA 3.25 through 3.499\n",
    "\n",
    "* **Magna Cum Laude** for GPA 3.5 through 3.749\n",
    "\n",
    "* **Summa Cum Laude** for GPA 3.75 and above\n",
    "    \n",
    "To be eligible for degree honor designations students must have completed at least two semesters and at least 30 credit hours at NC State.\n",
    "\n",
    "**Example 4.** Write a conditonal statement that takes the `gpa` and prints the appropiate degree honor designation. If the gpa does not qualify for academic honors print None."
   ]
  },
  {
   "cell_type": "code",
   "execution_count": null,
   "metadata": {},
   "outputs": [],
   "source": [
    "gpa = 2.73\n",
    "\n",
    "..."
   ]
  },
  {
   "cell_type": "markdown",
   "metadata": {},
   "source": [
    "Now let's get back to our original question. How many letters are in `my_string`?\n",
    "\n",
    "**Example 5.** Use a `for` loop and a conditional statement to count the number of letters in `my_string`.\n",
    "\n",
    "**Hints:** \n",
    "\n",
    "* There are several string methods in Python. They can be found [here](https://www.w3schools.com/python/python_ref_string.asp). For example, the `.replace()` string method can be used to remove spaces.\n",
    "\n",
    "* Import the string library (`import string`) and use the object `string.punctuation`. You can read more about this object by clicking [here](https://www.geeksforgeeks.org/string-punctuation-in-python/#:~:text=punctuation%20is%20a%20pre%2Dinitialized,the%20all%20sets%20of%20punctuation.&text=Parameters%20%3A%20Doesn't%20take%20any,since%20it's%20not%20a%20function.).\n",
    "\n",
    "* The `in` and `not in` membership operators can be used to validate the memebership of a value in a sequence, such as strings, lists, or tuples. Clieck [here](https://www.geeksforgeeks.org/python-membership-identity-operators-not-not/) to check out an example.\n",
    "\n",
    "* If you do it correctly your result should be 15."
   ]
  },
  {
   "cell_type": "code",
   "execution_count": null,
   "metadata": {},
   "outputs": [],
   "source": [
    "# Import the string library function\n",
    "import string\n",
    "\n",
    "# Initialize letter count\n",
    "letter_count = 0\n",
    "\n",
    "# for loop\n",
    "\n",
    "...\n",
    "\n",
    "letter_count"
   ]
  },
  {
   "cell_type": "markdown",
   "metadata": {},
   "source": [
    "### Rapper's Delight\n",
    "\n",
    "[\"Rapper's Delight\"](https://en.wikipedia.org/wiki/Rapper%27s_Delight) is a 1979 hip hop track by the Sugarhill Gang and produced by [Sylvia Robinson (aka The Mother of Hip Hop](https://en.wikipedia.org/wiki/Sylvia_Robinson). In 2000 NPR did a story about the song."
   ]
  },
  {
   "cell_type": "code",
   "execution_count": null,
   "metadata": {},
   "outputs": [],
   "source": [
    "from IPython import display\n",
    "\n",
    "IPython.display.Audio('audio/rappersdelight.mp3')"
   ]
  },
  {
   "cell_type": "markdown",
   "metadata": {},
   "source": [
    "There were three rappers in the Sugar Hill Gang. The members, all from Englewood, New Jersey, consisted of Michael \"Wonder Mike\" Wright, Henry \"Big Bank Hank\" Jackson (January 11, 1956 - November 11, 2014), and Guy \"Master Gee\" O'Brien. \n",
    "\n",
    "We will take a look at the lyrics of Wonder Mike.\n",
    "\n",
    "Run the cell below to read in the text file."
   ]
  },
  {
   "cell_type": "code",
   "execution_count": null,
   "metadata": {},
   "outputs": [],
   "source": [
    "with open('data/wonder-mike.txt', 'r') as f:\n",
    "    wonder_mike_lyrics = f.read()\n",
    "type(wonder_mike_lyrics)"
   ]
  },
  {
   "cell_type": "markdown",
   "metadata": {},
   "source": [
    "Since this a string we can iterate over the words. Let's take a look at a few lines."
   ]
  },
  {
   "cell_type": "code",
   "execution_count": null,
   "metadata": {},
   "outputs": [],
   "source": [
    "print(wonder_mike_lyrics[:789])"
   ]
  },
  {
   "cell_type": "markdown",
   "metadata": {},
   "source": [
    "Where does Wonder Mike's second verse begin?"
   ]
  },
  {
   "cell_type": "code",
   "execution_count": null,
   "metadata": {},
   "outputs": [],
   "source": [
    "lyrics.find(\"Wonder Mike Verse 2\")"
   ]
  },
  {
   "cell_type": "markdown",
   "metadata": {},
   "source": [
    "Does he have a third verse?"
   ]
  },
  {
   "cell_type": "code",
   "execution_count": null,
   "metadata": {},
   "outputs": [],
   "source": [
    "lyrics.find(\"Wonder Mike Verse 3\")"
   ]
  },
  {
   "cell_type": "markdown",
   "metadata": {},
   "source": [
    "Wonder Mike seems to use the words **boogie**, **hip**, and **hop** a lot.\n",
    "\n",
    "**Example 6.**  How many times did he say **boogie**, **hip**, and **hop** in his three verses."
   ]
  },
  {
   "cell_type": "code",
   "execution_count": null,
   "metadata": {},
   "outputs": [],
   "source": [
    "..."
   ]
  },
  {
   "cell_type": "markdown",
   "metadata": {},
   "source": [
    "**Example 7.**  How many times did he say **hip hop** in his three verses."
   ]
  },
  {
   "cell_type": "code",
   "execution_count": null,
   "metadata": {},
   "outputs": [],
   "source": [
    "..."
   ]
  },
  {
   "cell_type": "markdown",
   "metadata": {
    "deletable": false,
    "editable": false
   },
   "source": [
    "## Submission\n",
    "\n",
    "Make sure you have run all cells in your notebook in order before running the cell below, so that all images/graphs appear in the output. The cell below will generate a zip file for you to submit. **Please save before exporting!**\n",
    "\n",
    "When done exporting, download the .zip file by finding it in the file browswer on the left side of the screen, then right-click and select **Download**. You'll submit this .zip file for the assignment in Canvas to Gradescope for grading."
   ]
  },
  {
   "cell_type": "code",
   "execution_count": null,
   "metadata": {
    "deletable": false,
    "editable": false
   },
   "outputs": [],
   "source": [
    "# Save your notebook first, then run this cell to export your submission.\n",
    "grader.export(pdf=False)"
   ]
  },
  {
   "cell_type": "markdown",
   "metadata": {},
   "source": [
    " "
   ]
  }
 ],
 "metadata": {
  "kernelspec": {
   "display_name": "DSC495",
   "language": "python",
   "name": "dsc495"
  },
  "language_info": {
   "codemirror_mode": {
    "name": "ipython",
    "version": 3
   },
   "file_extension": ".py",
   "mimetype": "text/x-python",
   "name": "python",
   "nbconvert_exporter": "python",
   "pygments_lexer": "ipython3",
   "version": "3.10.1"
  },
  "otter": {
   "tests": {
    "e1": {
     "name": "e1",
     "points": null,
     "suites": [
      {
       "cases": [
        {
         "code": ">>> isinstance(char_ceo_totalpay, pd.core.frame.DataFrame)\nTrue",
         "hidden": false,
         "locked": false
        },
        {
         "code": ">>> char_ceo_totalpay.shape\n(20, 3)",
         "hidden": false,
         "locked": false
        },
        {
         "code": ">>> all(char_ceo_totalpay['City'] == 'Charlotte')\nTrue",
         "hidden": false,
         "locked": false
        }
       ],
       "scored": true,
       "setup": "",
       "teardown": "",
       "type": "doctest"
      }
     ]
    },
    "e2": {
     "name": "e2",
     "points": null,
     "suites": [
      {
       "cases": [
        {
         "code": ">>> isinstance(char_gso_ceo_totalpay, pd.core.frame.DataFrame)\nTrue",
         "hidden": false,
         "locked": false
        },
        {
         "code": ">>> char_gso_ceo_totalpay.shape\n(24, 3)",
         "hidden": false,
         "locked": false
        },
        {
         "code": ">>> char = 20\n>>> char_gso_ceo_totalpay['City'].value_counts()[0] == char\nTrue",
         "hidden": false,
         "locked": false
        },
        {
         "code": ">>> gso = 4\n>>> char_gso_ceo_totalpay['City'].value_counts()[1] == gso\nTrue",
         "hidden": false,
         "locked": false
        }
       ],
       "scored": true,
       "setup": "",
       "teardown": "",
       "type": "doctest"
      }
     ]
    },
    "e3": {
     "name": "e3",
     "points": null,
     "suites": [
      {
       "cases": [
        {
         "code": ">>> isinstance(nc_ceo_million, pd.core.frame.DataFrame)\nTrue",
         "hidden": false,
         "locked": false
        },
        {
         "code": ">>> nc_ceo_million.shape\n(55, 3)",
         "hidden": false,
         "locked": false
        },
        {
         "code": ">>> np.sum(nc_ceo_million['Total Pay'])\n381958760",
         "hidden": false,
         "locked": false
        }
       ],
       "scored": true,
       "setup": "",
       "teardown": "",
       "type": "doctest"
      }
     ]
    }
   }
  }
 },
 "nbformat": 4,
 "nbformat_minor": 4
}
