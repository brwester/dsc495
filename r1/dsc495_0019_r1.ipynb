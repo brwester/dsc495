{
 "cells": [
  {
   "cell_type": "raw",
   "metadata": {},
   "source": [
    "# ASSIGNMENT CONFIG\n",
    "export_cell:\n",
    "  instructions: \"When done exporting, download the .zip file by finding it in the file browswer on the left side of the screen, then right-click and select **Download**. You'll submit this .zip file for the assignment in Canvas to Gradescope for grading.\"\n",
    "check_all_cell: false\n",
    "generate:\n",
    "  pdf: false\n",
    "files:\n",
    "  - data/ufo.csv"
   ]
  },
  {
   "cell_type": "markdown",
   "metadata": {
    "id": "Z2iI3JeRWGW1"
   },
   "source": [
    "# Week 1 Review\n",
    "\n",
    "## Due: Thursday, January 20, 2022 @ 11:59pm\n",
    "\n",
    "In this assignment we will review the concepts and topics that we covered in Week 1.\n",
    "\n",
    "I would like you to attempt each level of the assignment. They get progressively harder. To get **full credit** on this assignment, you must complete the first two levels. Level III gives you a chance to work with some more advanced printing freatures in Python.\n",
    "\n",
    "**Note:** Try not to delete the instructions of the assignment.\n",
    "\n",
    "In the markdown cell below enter your name, section, and the date."
   ]
  },
  {
   "cell_type": "markdown",
   "metadata": {
    "id": "xC3V5EVtWGW2"
   },
   "source": [
    "**Name:** \n",
    "\n",
    "**Section:** \n",
    "\n",
    "**Date:**"
   ]
  },
  {
   "cell_type": "raw",
   "metadata": {},
   "source": [
    "# BEGIN QUESTION\n",
    "name: q1\n",
    "manual: true"
   ]
  },
  {
   "cell_type": "markdown",
   "metadata": {},
   "source": [
    "## Level I\n",
    "\n",
    "**Question 1.** Write code in the cell below that prints out the following statements.\n",
    "\n",
    "```\n",
    "Course Name: R/Python for Data Science\n",
    "Course Code: DSC 495\n",
    "Sections: 001 009\n",
    "```"
   ]
  },
  {
   "cell_type": "raw",
   "metadata": {},
   "source": [
    "# BEGIN SOLUTION"
   ]
  },
  {
   "cell_type": "code",
   "execution_count": 2,
   "metadata": {},
   "outputs": [
    {
     "name": "stdout",
     "output_type": "stream",
     "text": [
      "Course Name: R/Python for Data Science\n",
      "Course Code: DSC 495\n",
      "Sections: 001 009\n"
     ]
    }
   ],
   "source": [
    "# BEGIN SOLUTION NO PROMPT\n",
    "print(\"Course Name: R/Python for Data Science\")\n",
    "print(\"Course Code: DSC 495\")\n",
    "print(\"Sections: 001 009\")\n",
    "# END SOLUTION\n",
    "\"\"\" # BEGIN PROMPT\n",
    "...\n",
    "\"\"\"; # END PROMPT"
   ]
  },
  {
   "cell_type": "raw",
   "metadata": {},
   "source": [
    "# END SOLUTION"
   ]
  },
  {
   "cell_type": "raw",
   "metadata": {},
   "source": [
    "# END QUESTION"
   ]
  },
  {
   "cell_type": "raw",
   "metadata": {},
   "source": [
    "# BEGIN QUESTION\n",
    "name: q2\n",
    "manual: true"
   ]
  },
  {
   "cell_type": "markdown",
   "metadata": {},
   "source": [
    "**Question 2.** In our first lesson we listed the seven steps of the Data Science Methodolgy. \n",
    "\n",
    "1. Problem Understanding Phase\n",
    "2. Data Preparation Phase\n",
    "3. Exploratory Data Analysis Phase\n",
    "4. Setup Phase\n",
    "5. Modeling Phase\n",
    "6. Evaluation Phase\n",
    "7. Deployment Phase\n",
    "\n",
    "Print the steps that require us to use Python/R."
   ]
  },
  {
   "cell_type": "raw",
   "metadata": {},
   "source": [
    "# BEGIN SOLUTION"
   ]
  },
  {
   "cell_type": "code",
   "execution_count": 3,
   "metadata": {},
   "outputs": [
    {
     "name": "stdout",
     "output_type": "stream",
     "text": [
      "2. Data Preparation Phase\n",
      "3. Exploratory Data Analysis Phase\n",
      "4. Setup Phase\n",
      "5. Modeling Phase\n",
      "6. Evaluation Phase\n"
     ]
    }
   ],
   "source": [
    "# BEGIN SOLUTION NO PROMPT\n",
    "print(\"2. Data Preparation Phase\")\n",
    "print(\"3. Exploratory Data Analysis Phase\")\n",
    "print(\"4. Setup Phase\")\n",
    "print(\"5. Modeling Phase\")\n",
    "print(\"6. Evaluation Phase\")\n",
    "# END SOLUTION\n",
    "\"\"\" # BEGIN PROMPT\n",
    "...\n",
    "\"\"\"; # END PROMPT"
   ]
  },
  {
   "cell_type": "raw",
   "metadata": {},
   "source": [
    "# END SOLUTION"
   ]
  },
  {
   "cell_type": "raw",
   "metadata": {},
   "source": [
    "# END QUESTION"
   ]
  },
  {
   "cell_type": "raw",
   "metadata": {},
   "source": [
    "# BEGIN QUESTION\n",
    "name: q3"
   ]
  },
  {
   "cell_type": "markdown",
   "metadata": {},
   "source": [
    "## Level II\n",
    "\n",
    "**Question 3.** Raw data from data repositories is usually ready for use in the form that it is downloaded. Instead, it needs to be cleaned for analysis. From the list below choose the step of the Data Science Methodolgy that describes the process mentioned in the previous sentence.\n",
    "\n",
    "* Problem Understanding Phase\n",
    "* Data Preparation Phase\n",
    "* Exploratory Data Analysis Phase\n",
    "* Setup Phase\n",
    "* Modeling Phase\n",
    "* Evaluation Phase\n",
    "* Deployment Phase\n",
    "\n",
    "Assign to the correct answer choice to the variable `q3_answer`. \n",
    "\n",
    "**Note:** For example, `q3_answer = \"Your Answer\"`."
   ]
  },
  {
   "cell_type": "raw",
   "metadata": {},
   "source": [
    "# BEGIN SOLUTION"
   ]
  },
  {
   "cell_type": "code",
   "execution_count": 4,
   "metadata": {},
   "outputs": [
    {
     "data": {
      "text/plain": [
       "'Data Preparation Phase'"
      ]
     },
     "execution_count": 4,
     "metadata": {},
     "output_type": "execute_result"
    }
   ],
   "source": [
    "# BEGIN SOLUTION NO PROMPT\n",
    "q3_answer = \"Data Preparation Phase\"\n",
    "# END SOLUTION\n",
    "\"\"\" # BEGIN PROMPT\n",
    "q3_answer = \"...\"\"\n",
    "\"\"\"; # END PROMPT\n",
    "q3_answer"
   ]
  },
  {
   "cell_type": "raw",
   "metadata": {},
   "source": [
    "# END SOLUTION"
   ]
  },
  {
   "cell_type": "raw",
   "metadata": {},
   "source": [
    "# BEGIN TESTS"
   ]
  },
  {
   "cell_type": "code",
   "execution_count": 5,
   "metadata": {},
   "outputs": [
    {
     "data": {
      "text/plain": [
       "True"
      ]
     },
     "execution_count": 5,
     "metadata": {},
     "output_type": "execute_result"
    }
   ],
   "source": [
    "isinstance(q3_answer, str)"
   ]
  },
  {
   "cell_type": "code",
   "execution_count": 13,
   "metadata": {},
   "outputs": [
    {
     "data": {
      "text/plain": [
       "(4, 3)"
      ]
     },
     "execution_count": 13,
     "metadata": {},
     "output_type": "execute_result"
    }
   ],
   "source": [
    "q3_answer == \"Data Preparation Phase\""
   ]
  },
  {
   "cell_type": "raw",
   "metadata": {},
   "source": [
    "# END TESTS"
   ]
  },
  {
   "cell_type": "raw",
   "metadata": {},
   "source": [
    "# END QUESTION"
   ]
  },
  {
   "cell_type": "raw",
   "metadata": {},
   "source": [
    "# BEGIN QUESTION\n",
    "name: q4"
   ]
  },
  {
   "cell_type": "markdown",
   "metadata": {},
   "source": [
    "## Level III\n",
    "\n",
    "### Lists \n",
    "\n",
    "In Python lists are one of the built-in data types used to store multiple items in a single variable. List items are ordered by index and the first index is `[0]`, the second item has index `[1]`, etc. \n",
    "\n",
    "Lists are defined using `[ ]` and can be assigned to a variable name. For example\n",
    "\n",
    "`my_list = [\"Data\", \"Science\", \"Academy\"]`\n",
    "\n",
    "has three items `[0]`, `[1]`, and `[2]`. Each element in the list is a string. Strings in python are surrounded by either single quotation marks, or double quotation marks.\n",
    "\n",
    "**Question 4.** Create a list named `sections` that contains the section codes (as strings) for this course. Then use the `print()` function to print the list.\n",
    "\n",
    "**Note:** The course section numbers are 001 and 009."
   ]
  },
  {
   "cell_type": "raw",
   "metadata": {},
   "source": [
    "# BEGIN SOLUTION"
   ]
  },
  {
   "cell_type": "code",
   "execution_count": 15,
   "metadata": {},
   "outputs": [
    {
     "name": "stdout",
     "output_type": "stream",
     "text": [
      "['001', '009']\n"
     ]
    }
   ],
   "source": [
    "# BEGIN SOLUTION NO PROMPT\n",
    "sections = [\"001\", \"009\"]\n",
    "print(sections)\n",
    "# END SOLUTION\n",
    "\"\"\" # BEGIN PROMPT\n",
    "sections = ...\n",
    "print(...)\n",
    "\"\"\"; # END PROMPT"
   ]
  },
  {
   "cell_type": "raw",
   "metadata": {},
   "source": [
    "# END SOLUTION"
   ]
  },
  {
   "cell_type": "raw",
   "metadata": {},
   "source": [
    "# BEGIN TESTS"
   ]
  },
  {
   "cell_type": "code",
   "execution_count": 16,
   "metadata": {},
   "outputs": [
    {
     "data": {
      "text/plain": [
       "True"
      ]
     },
     "execution_count": 16,
     "metadata": {},
     "output_type": "execute_result"
    }
   ],
   "source": [
    "isinstance(sections, list)"
   ]
  },
  {
   "cell_type": "code",
   "execution_count": 17,
   "metadata": {},
   "outputs": [
    {
     "data": {
      "text/plain": [
       "2"
      ]
     },
     "execution_count": 17,
     "metadata": {},
     "output_type": "execute_result"
    }
   ],
   "source": [
    "len(sections)"
   ]
  },
  {
   "cell_type": "code",
   "execution_count": 18,
   "metadata": {},
   "outputs": [
    {
     "data": {
      "text/plain": [
       "'001'"
      ]
     },
     "execution_count": 18,
     "metadata": {},
     "output_type": "execute_result"
    }
   ],
   "source": [
    "sections[0]"
   ]
  },
  {
   "cell_type": "code",
   "execution_count": 19,
   "metadata": {},
   "outputs": [
    {
     "data": {
      "text/plain": [
       "'009'"
      ]
     },
     "execution_count": 19,
     "metadata": {},
     "output_type": "execute_result"
    }
   ],
   "source": [
    "sections[1]"
   ]
  },
  {
   "cell_type": "raw",
   "metadata": {},
   "source": [
    "# END TESTS"
   ]
  },
  {
   "cell_type": "raw",
   "metadata": {},
   "source": [
    "# END QUESTION"
   ]
  }
 ],
 "metadata": {
  "kernelspec": {
   "display_name": "DSC495",
   "language": "python",
   "name": "dsc495"
  },
  "language_info": {
   "codemirror_mode": {
    "name": "ipython",
    "version": 3
   },
   "file_extension": ".py",
   "mimetype": "text/x-python",
   "name": "python",
   "nbconvert_exporter": "python",
   "pygments_lexer": "ipython3",
   "version": "3.10.1"
  }
 },
 "nbformat": 4,
 "nbformat_minor": 4
}
