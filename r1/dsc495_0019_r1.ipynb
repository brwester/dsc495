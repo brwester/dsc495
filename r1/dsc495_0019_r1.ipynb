{
 "cells": [
  {
   "cell_type": "code",
   "execution_count": null,
   "metadata": {
    "deletable": false,
    "editable": false
   },
   "outputs": [],
   "source": [
    "# Initialize Otter\n",
    "import otter\n",
    "grader = otter.Notebook(\"dsc495_0019_r1.ipynb\")"
   ]
  },
  {
   "cell_type": "markdown",
   "metadata": {
    "id": "Z2iI3JeRWGW1"
   },
   "source": [
    "# Week 1 Review\n",
    "\n",
    "## Due: Thursday, January 20, 2022 @ 11:59pm\n",
    "\n",
    "In this assignment we will review the concepts and topics that we covered in Week 1.\n",
    "\n",
    "I would like you to attempt each level of the assignment. They get progressively harder. To get **full credit** on this assignment, you must complete the first two levels (Levels I and II). Level III gives you a chance to work with some more advanced printing freatures in Python.\n",
    "\n",
    "**Note:** Try not to delete the instructions of the assignment.\n",
    "\n",
    "In the markdown cell below enter your name, section, and the date."
   ]
  },
  {
   "cell_type": "markdown",
   "metadata": {
    "id": "xC3V5EVtWGW2"
   },
   "source": [
    "**Name:** \n",
    "\n",
    "**Section:** \n",
    "\n",
    "**Date:**"
   ]
  },
  {
   "cell_type": "markdown",
   "metadata": {},
   "source": [
    "<!-- BEGIN QUESTION -->\n",
    "\n",
    "## Level I\n",
    "\n",
    "**Question 1.** Write code in the cell below that prints out the following statements.\n",
    "\n",
    "```\n",
    "Course Name: R/Python for Data Science\n",
    "Course Code: DSC 495\n",
    "Sections: 001 009\n",
    "```"
   ]
  },
  {
   "cell_type": "code",
   "execution_count": null,
   "metadata": {
    "tags": []
   },
   "outputs": [],
   "source": [
    "..."
   ]
  },
  {
   "cell_type": "markdown",
   "metadata": {},
   "source": [
    "<!-- END QUESTION -->\n",
    "\n",
    "<!-- BEGIN QUESTION -->\n",
    "\n",
    "**Question 2.** In our first lesson we listed the seven steps of the Data Science Methodolgy. \n",
    "\n",
    "1. Problem Understanding Phase\n",
    "2. Data Preparation Phase\n",
    "3. Exploratory Data Analysis Phase\n",
    "4. Setup Phase\n",
    "5. Modeling Phase\n",
    "6. Evaluation Phase\n",
    "7. Deployment Phase\n",
    "\n",
    "Print the steps that require us to use Python/R."
   ]
  },
  {
   "cell_type": "code",
   "execution_count": null,
   "metadata": {
    "tags": []
   },
   "outputs": [],
   "source": [
    "..."
   ]
  },
  {
   "cell_type": "markdown",
   "metadata": {},
   "source": [
    "<!-- END QUESTION -->\n",
    "\n",
    "## Level II\n",
    "\n",
    "**Question 3.** Raw data from data repositories is usually ready for use in the form that it is downloaded. Instead, it needs to be cleaned for analysis. From the list below choose the step of the Data Science Methodolgy that describes the process mentioned in the previous sentence.\n",
    "\n",
    "* Problem Understanding Phase\n",
    "* Data Preparation Phase\n",
    "* Exploratory Data Analysis Phase\n",
    "* Setup Phase\n",
    "* Modeling Phase\n",
    "* Evaluation Phase\n",
    "* Deployment Phase\n",
    "\n",
    "Assign to the correct answer choice to the variable `q3_answer`. \n",
    "\n",
    "**Note:** For example, `q3_answer = \"Your Answer\"`."
   ]
  },
  {
   "cell_type": "code",
   "execution_count": null,
   "metadata": {
    "tags": []
   },
   "outputs": [],
   "source": [
    "q3_answer = \"...\"\"\n",
    "q3_answer"
   ]
  },
  {
   "cell_type": "code",
   "execution_count": null,
   "metadata": {
    "deletable": false,
    "editable": false
   },
   "outputs": [],
   "source": [
    "grader.check(\"q3\")"
   ]
  },
  {
   "cell_type": "markdown",
   "metadata": {},
   "source": [
    "## Level III\n",
    "\n",
    "### Lists \n",
    "\n",
    "In Python lists are one of the built-in data types used to store multiple items in a single variable. List items are ordered by index and the first index is `[0]`, the second item has index `[1]`, etc. \n",
    "\n",
    "Lists are defined using `[ ]` and can be assigned to a variable name. For example\n",
    "\n",
    "`my_list = [\"Data\", \"Science\", \"Academy\"]`\n",
    "\n",
    "has three items `[0]`, `[1]`, and `[2]`. Each element in the list is a string. Strings in python are surrounded by either single quotation marks, or double quotation marks.\n",
    "\n",
    "**Question 4.** Create a list named `sections` that contains the section codes (as strings) for this course. Then use the `print()` function to print the list.\n",
    "\n",
    "**Note:** The course section numbers are 001 and 009."
   ]
  },
  {
   "cell_type": "code",
   "execution_count": null,
   "metadata": {
    "tags": []
   },
   "outputs": [],
   "source": [
    "sections = ...\n",
    "print(...)"
   ]
  },
  {
   "cell_type": "code",
   "execution_count": null,
   "metadata": {
    "deletable": false,
    "editable": false
   },
   "outputs": [],
   "source": [
    "grader.check(\"q4\")"
   ]
  },
  {
   "cell_type": "markdown",
   "metadata": {
    "deletable": false,
    "editable": false
   },
   "source": [
    "## Submission\n",
    "\n",
    "Make sure you have run all cells in your notebook in order before running the cell below, so that all images/graphs appear in the output. The cell below will generate a zip file for you to submit. **Please save before exporting!**\n",
    "\n",
    "When done exporting, download the .zip file by finding it in the file browswer on the left side of the screen, then right-click and select **Download**. You'll submit this .zip file for the assignment in Canvas to Gradescope for grading."
   ]
  },
  {
   "cell_type": "code",
   "execution_count": null,
   "metadata": {
    "deletable": false,
    "editable": false
   },
   "outputs": [],
   "source": [
    "# Save your notebook first, then run this cell to export your submission.\n",
    "grader.export()"
   ]
  },
  {
   "cell_type": "markdown",
   "metadata": {},
   "source": [
    " "
   ]
  }
 ],
 "metadata": {
  "kernelspec": {
   "display_name": "DSC495",
   "language": "python",
   "name": "dsc495"
  },
  "language_info": {
   "codemirror_mode": {
    "name": "ipython",
    "version": 3
   },
   "file_extension": ".py",
   "mimetype": "text/x-python",
   "name": "python",
   "nbconvert_exporter": "python",
   "pygments_lexer": "ipython3",
   "version": "3.10.1"
  },
  "otter": {
   "tests": {
    "q3": {
     "name": "q3",
     "points": null,
     "suites": [
      {
       "cases": [
        {
         "code": ">>> isinstance(q3_answer, str)\nTrue",
         "hidden": false,
         "locked": false
        },
        {
         "code": ">>> q3_answer == \"Data Preparation Phase\"\nTrue",
         "hidden": false,
         "locked": false
        }
       ],
       "scored": true,
       "setup": "",
       "teardown": "",
       "type": "doctest"
      }
     ]
    },
    "q4": {
     "name": "q4",
     "points": 0,
     "suites": [
      {
       "cases": [
        {
         "code": ">>> isinstance(sections, list)\nTrue",
         "hidden": false,
         "locked": false
        },
        {
         "code": ">>> len(sections)\n2",
         "hidden": false,
         "locked": false
        },
        {
         "code": ">>> sections[0]\n'001'",
         "hidden": false,
         "locked": false
        },
        {
         "code": ">>> sections[1]\n'009'",
         "hidden": false,
         "locked": false
        }
       ],
       "scored": true,
       "setup": "",
       "teardown": "",
       "type": "doctest"
      }
     ]
    }
   }
  }
 },
 "nbformat": 4,
 "nbformat_minor": 4
}
