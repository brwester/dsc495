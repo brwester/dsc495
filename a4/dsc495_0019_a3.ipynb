{
 "cells": [
  {
   "cell_type": "code",
   "execution_count": null,
   "metadata": {
    "deletable": false,
    "editable": false
   },
   "outputs": [],
   "source": [
    "# Initialize Otter\n",
    "import otter\n",
    "grader = otter.Notebook(\"dsc495_0019_a3.ipynb\")"
   ]
  },
  {
   "cell_type": "markdown",
   "metadata": {
    "id": "Z2iI3JeRWGW1"
   },
   "source": [
    "# Assignment 3\n",
    "\n",
    "## Due: Tuesday, February 1, 2022 @ 11:59pm\n",
    "\n",
    "In this assignment we will get more familiar with basic Python, including the `NumPy` operations, manipulating `DataFrame`s, `for` loops, and `if` `elif` `else` statements.\n",
    "\n",
    "I would like you to attempt each level of the assignment. They get progressively harder. To get **full credit** on this assignment, you must complete the first three levels (Levels I, II, and III). Levels IV and V give you a chance to work with some more advanced printing freatures in Python.\n",
    "\n",
    "**Note:** Try not to delete the instructions of the assignment.\n",
    "\n",
    "In the markdown cell below enter your name, section, and the date."
   ]
  },
  {
   "cell_type": "markdown",
   "metadata": {
    "id": "xC3V5EVtWGW2"
   },
   "source": [
    "**Name:** \n",
    "\n",
    "**Section:** \n",
    "\n",
    "**Date:**"
   ]
  },
  {
   "cell_type": "markdown",
   "metadata": {},
   "source": [
    "## Level I\n",
    "\n",
    "### `NumPy`\n",
    "\n",
    "Very often in data science, we want to work with many numbers that are evenly spaced within some range."
   ]
  },
  {
   "cell_type": "markdown",
   "metadata": {},
   "source": [
    "**Question 1.** Import `numpy` as `np` and then use `np.arange` to create an array with the multiples of 99 from 0 up to (**and including**) 9999. So its elements are 0, 99, 198, 297, etc."
   ]
  },
  {
   "cell_type": "code",
   "execution_count": null,
   "metadata": {
    "tags": []
   },
   "outputs": [],
   "source": [
    "# Imoprt the pandas package\n",
    "import ... as np\n",
    "\n",
    "# Create the numpy array\n",
    "multiples_of_99 = ...\n",
    "multiples_of_99"
   ]
  },
  {
   "cell_type": "code",
   "execution_count": null,
   "metadata": {
    "deletable": false,
    "editable": false
   },
   "outputs": [],
   "source": [
    "grader.check(\"q1\")"
   ]
  },
  {
   "cell_type": "markdown",
   "metadata": {},
   "source": [
    "### Working with Array Elements\n",
    "\n",
    "Let's work with a more interesting dataset.  The next cell creates an array called `population_amounts` that includes estimated world populations in every year from **1960** to roughly the present. The estimates come from the US Census Bureau website.\n",
    "\n",
    "Rather than type in the data manually, we've loaded a file on your computer called `world_population.csv`."
   ]
  },
  {
   "cell_type": "markdown",
   "metadata": {},
   "source": [
    "**Question 2.** Import `pandas` as `pd` and then load the `world_population.csv` from the data folder. Save it to `population_amounts`."
   ]
  },
  {
   "cell_type": "code",
   "execution_count": null,
   "metadata": {
    "tags": []
   },
   "outputs": [],
   "source": [
    "# Imoprt the pandas package\n",
    "import ... as pd\n",
    "\n",
    "# Load the world_population.csv file\n",
    "population_amounts = ...('data/world_population.csv')\n",
    "population_amounts"
   ]
  },
  {
   "cell_type": "code",
   "execution_count": null,
   "metadata": {
    "deletable": false,
    "editable": false
   },
   "outputs": [],
   "source": [
    "grader.check(\"q2\")"
   ]
  },
  {
   "cell_type": "markdown",
   "metadata": {},
   "source": [
    "We can convert a `pandas` `Series` (i.e. a column from a `pandas` `DataFrame`) into a `NumPy` array using the `.to_numpy()` method. Click [here]() to read about the `.to_numpy()` method."
   ]
  },
  {
   "cell_type": "markdown",
   "metadata": {},
   "source": [
    "**Question 3.** Convert the `Population` column from the `population_amounts` `DataFrame`, into a `NumPy` array. Save it to `population_array`."
   ]
  },
  {
   "cell_type": "code",
   "execution_count": null,
   "metadata": {
    "tags": []
   },
   "outputs": [],
   "source": [
    "population_array = ...\n",
    "population_array"
   ]
  },
  {
   "cell_type": "code",
   "execution_count": null,
   "metadata": {
    "deletable": false,
    "editable": false
   },
   "outputs": [],
   "source": [
    "grader.check(\"q3\")"
   ]
  },
  {
   "cell_type": "markdown",
   "metadata": {},
   "source": [
    "Run the cell below."
   ]
  },
  {
   "cell_type": "code",
   "execution_count": null,
   "metadata": {},
   "outputs": [],
   "source": [
    "population_array[0]"
   ]
  },
  {
   "cell_type": "markdown",
   "metadata": {},
   "source": [
    "The value of that expression is the number 3032156070 (around 3 billion), because that's the first element in the array `population_array`."
   ]
  },
  {
   "cell_type": "code",
   "execution_count": null,
   "metadata": {},
   "outputs": [],
   "source": [
    "# The 13th element in the array is the population in 1972 (which is 1960 + 12).\n",
    "population_1972 = population_array[12]\n",
    "population_1972"
   ]
  },
  {
   "cell_type": "markdown",
   "metadata": {},
   "source": [
    "**Question 4.** Set `population_1983` to the world population in 1983, by getting the appropriate element from `population_array`."
   ]
  },
  {
   "cell_type": "code",
   "execution_count": null,
   "metadata": {
    "tags": []
   },
   "outputs": [],
   "source": [
    "population_1983 = ...\n",
    "population_1983"
   ]
  },
  {
   "cell_type": "code",
   "execution_count": null,
   "metadata": {
    "deletable": false,
    "editable": false
   },
   "outputs": [],
   "source": [
    "grader.check(\"q4\")"
   ]
  },
  {
   "cell_type": "markdown",
   "metadata": {},
   "source": [
    "### Doing Something to Every Element of an Array\n",
    "\n",
    "Arrays are primarily useful for doing the same operation many times. Arithmetic works elementwise on arrays, meaning that if you perform an arithmetic operation (like subtraction, division, etc.) on an array, Python will do the operation to every element of the array individually and return an array of all of the results. For example, you can divide all the population numbers by 1 billion to get numbers in billions."
   ]
  },
  {
   "cell_type": "markdown",
   "metadata": {},
   "source": [
    "**Question 5.** Divide all the population numbers by 1 billion to get numbers in billions. Save the results to `population_in_billions`. "
   ]
  },
  {
   "cell_type": "code",
   "execution_count": null,
   "metadata": {
    "tags": []
   },
   "outputs": [],
   "source": [
    "population_in_billions = ...\n",
    "population_in_billions"
   ]
  },
  {
   "cell_type": "code",
   "execution_count": null,
   "metadata": {
    "deletable": false,
    "editable": false
   },
   "outputs": [],
   "source": [
    "grader.check(\"q5\")"
   ]
  },
  {
   "cell_type": "markdown",
   "metadata": {},
   "source": [
    "## Level II\n",
    "\n",
    "#### Logarithms\n",
    "\n",
    "Orders of magnitude quantify how big a number is by representing it as the power of another number (for example, representing 100 as $10^2$). One way to do this is by using the logarithm function. The logarithm (base 10) of a number increases by 1 every time we multiply the number by 10. It's like a measure of how many decimal digits the number has, or how big it is in orders of magnitude.\n",
    "\n",
    "Suppose we were interested in how big was the population in **orders of magnitude** in each year? \n",
    "\n",
    "We could try to answer our question like this, using the `log10` function from the `math` module."
   ]
  },
  {
   "cell_type": "code",
   "execution_count": null,
   "metadata": {},
   "outputs": [],
   "source": [
    "import math \n",
    "\n",
    "population_1960_magnitude = math.log10(population_array[0])\n",
    "population_1961_magnitude = math.log10(population_array[1])\n",
    "population_1962_magnitude = math.log10(population_array[2])\n",
    "population_1963_magnitude = math.log10(population_array[3])\n",
    "\n",
    "population_1960_magnitude, population_1961_magnitude, population_1962_magnitude, population_1963_magnitude"
   ]
  },
  {
   "cell_type": "markdown",
   "metadata": {},
   "source": [
    "But this is tedious and doesn't really take advantage of the fact that we are using Python.\n",
    "\n",
    "Instead, `NumPy` provides its own version of `log10` that takes the logarithm of each element of an array.  It takes a single array of numbers as its argument.  It returns an array of the same length, where the first element of the result is the logarithm of the first element of the argument, and so on.\n",
    "\n",
    "The documentation can be found by clicking [here](https://numpy.org/doc/stable/reference/generated/numpy.log10.html)."
   ]
  },
  {
   "cell_type": "markdown",
   "metadata": {},
   "source": [
    "**Question 6.** Use `np.log10` to compute the logarithms of the world population in every year.  Give the result (an array of 66 numbers) the name `population_magnitudes`. "
   ]
  },
  {
   "cell_type": "code",
   "execution_count": null,
   "metadata": {
    "tags": []
   },
   "outputs": [],
   "source": [
    "population_magnitudes = ...\n",
    "population_magnitudes"
   ]
  },
  {
   "cell_type": "code",
   "execution_count": null,
   "metadata": {
    "deletable": false,
    "editable": false
   },
   "outputs": [],
   "source": [
    "grader.check(\"q6\")"
   ]
  },
  {
   "cell_type": "markdown",
   "metadata": {},
   "source": [
    "What you just did is called **elementwise** application of `np.log10`, since `np.log10` operates separately on each element of the array that it's called on."
   ]
  },
  {
   "cell_type": "markdown",
   "metadata": {},
   "source": [
    "## Level III\n",
    "\n",
    "#### Powers\n",
    "\n",
    "The powers of 2 $\\left(2^0 = 1, 2^1 = 2, 2^2 = 4, \\text{ etc} \\right)$ arise frequently in computer science. For example, you may have noticed that storage on smartphones come in powers of 2, like 16 GB, 32 GB, or 64 GB."
   ]
  },
  {
   "cell_type": "markdown",
   "metadata": {},
   "source": [
    "**Question 7.** Use `np.arange` and the exponentiation operator `**` to compute the first 30 powers of 2, starting from $2^0$. Save this to `powers_of_2`.\n",
    "\n",
    "**Hint:** Part of your solution will involve `np.arange`, but your array shouldn't have more than 30 elements.\n",
    "\n",
    "**Warning:** `np.arange(1, 2**30, 1)` creates an array with $2^{30}$ elements and **will crash your kernel**."
   ]
  },
  {
   "cell_type": "code",
   "execution_count": null,
   "metadata": {
    "tags": []
   },
   "outputs": [],
   "source": [
    "powers_of_2 = ...\n",
    "powers_of_2"
   ]
  },
  {
   "cell_type": "code",
   "execution_count": null,
   "metadata": {
    "deletable": false,
    "editable": false
   },
   "outputs": [],
   "source": [
    "grader.check(\"q7\")"
   ]
  },
  {
   "cell_type": "markdown",
   "metadata": {},
   "source": [
    "## `pandas` Operations\n",
    "\n",
    "### CEO Incomes\n",
    "\n",
    "Let's take a look at the 2019 compensation of North Carolina CEOs. The following table contains information on the top 61 highest paid CEOs for companies headquartered in North Carolina. The data was compiled from the [AFL-CIO Executive Paywatch database](https://aflcio.org/paywatch/highest-paid-ceos), and ultimately came from [filings](https://www.sec.gov/answers/proxyhtf.htm) mandated by the SEC from all publicly-traded companies.\n",
    "\n",
    "We've copied the raw data from the AFL-CIO database into a file called `nc-ceo-pay.csv`."
   ]
  },
  {
   "cell_type": "code",
   "execution_count": null,
   "metadata": {},
   "outputs": [],
   "source": [
    "raw_compensation = pd.read_csv('data/nc-ceo-pay.csv')\n",
    "raw_compensation"
   ]
  },
  {
   "cell_type": "markdown",
   "metadata": {},
   "source": [
    "**Question 9.** Select all the rows for companies in Raleigh. Save this to a `DataFrame` named `raleigh_ceo_salaries`."
   ]
  },
  {
   "cell_type": "code",
   "execution_count": null,
   "metadata": {
    "tags": []
   },
   "outputs": [],
   "source": [
    "raleigh_ceo_salaries = ...\n",
    "raleigh_ceo_salaries"
   ]
  },
  {
   "cell_type": "code",
   "execution_count": null,
   "metadata": {
    "deletable": false,
    "editable": false
   },
   "outputs": [],
   "source": [
    "grader.check(\"q9\")"
   ]
  },
  {
   "cell_type": "markdown",
   "metadata": {},
   "source": [
    "**Question 10.** Which CEO has the highest **salary** in the Raleigh-Durham area? Assign the name of the CEO (as it is spelled in the dataset) to `top_salary`."
   ]
  },
  {
   "cell_type": "code",
   "execution_count": null,
   "metadata": {
    "tags": []
   },
   "outputs": [],
   "source": [
    "top_salary = ..."
   ]
  },
  {
   "cell_type": "code",
   "execution_count": null,
   "metadata": {
    "deletable": false,
    "editable": false
   },
   "outputs": [],
   "source": [
    "grader.check(\"q10\")"
   ]
  },
  {
   "cell_type": "markdown",
   "metadata": {},
   "source": [
    "**Question 11.** Which CEO has the highest **bonus** in the Raleigh-Durham area? Assign the name of the CEO (as it is spelled in the dataset) to `top_bonus`."
   ]
  },
  {
   "cell_type": "code",
   "execution_count": null,
   "metadata": {
    "tags": []
   },
   "outputs": [],
   "source": [
    "top_bonus = ..."
   ]
  },
  {
   "cell_type": "code",
   "execution_count": null,
   "metadata": {
    "deletable": false,
    "editable": false
   },
   "outputs": [],
   "source": [
    "grader.check(\"q11\")"
   ]
  },
  {
   "cell_type": "markdown",
   "metadata": {},
   "source": [
    "### Counting Words\n",
    "\n",
    "#### The Gettysburg Address\n",
    "\n",
    "The Gettysburg Address is a speech that U.S. President Abraham Lincoln delivered during the American Civil War at the dedication of the Soldiers' National Cemetery in Gettysburg, Pennsylvania, on the afternoon of November 19, 1863, four and a half months after the Union armies defeated those of the Confederacy at the Battle of Gettysburg. It is one of the best-known speeches in American history.\n",
    "\n",
    "**Source:** [Wikipedia](https://en.wikipedia.org/wiki/Gettysburg_Address)\n",
    "\n",
    "Run the cell below to load the text file and display the first sentence.\n",
    "\n",
    "**Source:** Prepared by Gerald Murphy (The Cleveland Free-Net - aa300) Distributed by the Cybercasting Services Division of the National Public Telecomputing Network (NPTN)."
   ]
  },
  {
   "cell_type": "code",
   "execution_count": null,
   "metadata": {},
   "outputs": [],
   "source": [
    "with open('data/gettysburg-address.txt', 'r') as f:\n",
    "    lines = f.read()\n",
    "print(lines[:175])"
   ]
  },
  {
   "cell_type": "markdown",
   "metadata": {},
   "source": [
    "The file was read in and saved as a single string.\n",
    "\n",
    "Run the cell below to see the full string. You should notice the `\\n` character sequence, the standard escape sequence for end of line."
   ]
  },
  {
   "cell_type": "code",
   "execution_count": null,
   "metadata": {},
   "outputs": [],
   "source": [
    "lines[:]"
   ]
  },
  {
   "cell_type": "markdown",
   "metadata": {},
   "source": [
    "**Question 12.** Change all the letters to lowercase using a string method. Then, replace the `\\n` character sequence with a `' '` (this is a space) using a string method. Then we can split the string at the spaces using `.split` - this will reurn a list. Save this to the object `lines_with_spaces`.\n",
    "\n",
    "**Hint:** You can do this in one line. That being said, feel free to use multiple lines if it will be easier for you. "
   ]
  },
  {
   "cell_type": "code",
   "execution_count": null,
   "metadata": {
    "tags": []
   },
   "outputs": [],
   "source": [
    "lines_with_spaces = ...\n",
    "\n",
    "# Print the first 10 words\n",
    "lines_with_spaces[0:6]"
   ]
  },
  {
   "cell_type": "code",
   "execution_count": null,
   "metadata": {
    "deletable": false,
    "editable": false
   },
   "outputs": [],
   "source": [
    "grader.check(\"q12\")"
   ]
  },
  {
   "cell_type": "markdown",
   "metadata": {},
   "source": [
    "**Question 13.** Use a loop to count the number of words in the speech (use the object `lines_with_spaces`). Save the number of words in `word_count`. \n",
    "\n",
    "**Note:** To receive full credit on this question you must use a loop."
   ]
  },
  {
   "cell_type": "code",
   "execution_count": null,
   "metadata": {
    "tags": []
   },
   "outputs": [],
   "source": [
    "# Set counter to 0\n",
    "word_count = ...\n",
    "\n",
    "# Loop over the list of words and update counter\n",
    "for ...\n",
    "word_count"
   ]
  },
  {
   "cell_type": "code",
   "execution_count": null,
   "metadata": {
    "deletable": false,
    "editable": false
   },
   "outputs": [],
   "source": [
    "grader.check(\"q13\")"
   ]
  },
  {
   "cell_type": "markdown",
   "metadata": {},
   "source": [
    "**Question 14.** Use a loop and a `if` statement to count the number of vowels (a, e, i, o, and u) in the speech (use the object `lines`). Save the number of words in `vowel_count`. Make sure you don't count the `\\n` character sequence.\n",
    "\n",
    "**Note:** To receive full credit on this question you must use a loop."
   ]
  },
  {
   "cell_type": "code",
   "execution_count": null,
   "metadata": {
    "tags": []
   },
   "outputs": [],
   "source": [
    "# Set counter to 0\n",
    "word_count = ...\n",
    "\n",
    "# Loop over the list of words and update counter\n",
    "for ...\n",
    "vowel_count"
   ]
  },
  {
   "cell_type": "code",
   "execution_count": null,
   "metadata": {
    "deletable": false,
    "editable": false
   },
   "outputs": [],
   "source": [
    "grader.check(\"q14\")"
   ]
  },
  {
   "cell_type": "markdown",
   "metadata": {},
   "source": [
    "**Question 15.** Use a loop and a `if` statement to count the number of consonants, and spaces in the speech (use the object `lines`). Make sure you don't count the `\\n` character sequence. Then print the following message:\n",
    "\n",
    "    The number of vowels is: ####\n",
    "    The number of consonants is: ####\n",
    "    The number of spaces are: ####\n",
    "    \n",
    "**Note:** Use the `vowel_count` variable from **Question 14.** to store the number of vowels, use `consonant_count` to store the number of consonants, and use `spaces_count` to store the number of spaces."
   ]
  },
  {
   "cell_type": "code",
   "execution_count": null,
   "metadata": {
    "tags": []
   },
   "outputs": [],
   "source": [
    "...\n",
    "\n",
    "vowel_count = ...\n",
    "consonant_count = ...\n",
    "spaces_count = ...\n",
    "\n",
    "print(\"The number of vowels: \", ...)\n",
    "print(\"The number of consonants: \", ...) \n",
    "print(\"The number of spaces: \", ...)"
   ]
  },
  {
   "cell_type": "markdown",
   "metadata": {},
   "source": [
    "## Level IV\n",
    "\n",
    "### Numerical Summaries of CEO Incomes\n",
    "\n",
    "Let's take another look at the 2019 compensation of North Carolina CEOs. This time we are interested in the mean and median total pay.\n",
    "\n",
    "Run the cell below to load the dataset into a different `DataFrame` named `nc_ceo_totalpay`."
   ]
  },
  {
   "cell_type": "code",
   "execution_count": null,
   "metadata": {},
   "outputs": [],
   "source": [
    "nc_ceo_totalpay = pd.read_csv('data/nc-ceo-pay.csv')\n",
    "nc_ceo_totalpay"
   ]
  },
  {
   "cell_type": "markdown",
   "metadata": {},
   "source": [
    "The data type first item in the `Total Pay` column is a `str`. This means we won't be able to perform any arithmetic on it.\n",
    "\n",
    "Runt the cell below to see."
   ]
  },
  {
   "cell_type": "code",
   "execution_count": null,
   "metadata": {},
   "outputs": [],
   "source": [
    "type(nc_ceo_totalpay['Total Pay'][0])"
   ]
  },
  {
   "cell_type": "markdown",
   "metadata": {},
   "source": [
    " Another clue that could have lead you to this discovery is the fact that there are characters in the observation.\n",
    " \n",
    " Run the cell below to see."
   ]
  },
  {
   "cell_type": "code",
   "execution_count": null,
   "metadata": {},
   "outputs": [],
   "source": [
    "nc_ceo_totalpay['Total Pay'][0]"
   ]
  },
  {
   "cell_type": "markdown",
   "metadata": {},
   "source": [
    "We need to remove all the characters that are not numbers (i.e. the \\$ and ,), then convert all the elements from strings (`str`) to numbers (`int`). After that we can find the mean and median.\n",
    "\n",
    "There are several string methods that can be used on `pandas` `Series`. They can be found [here](https://pandas.pydata.org/docs/reference/api/pandas.Series.str.html). There are also `Series` methods that can deal with data types. Those can be found [here](https://pandas.pydata.org/docs/reference/series.html)."
   ]
  },
  {
   "cell_type": "markdown",
   "metadata": {},
   "source": [
    "**Question 16.** Find the median, mean, and standard devitaion of the total pay for using the `nc_ceo_totalpay` `DataFrame`. Store the values in `nc_ceo_mean` and  `nc_ceo_median`. Round each value to remove all the numbers after the decimal.\n",
    "    \n",
    "**Note:** You **do not** need to use a loop. \n",
    "\n",
    "**Remember:** You can use functions from the `NumPy` library to do *elementwise* arithmetic."
   ]
  },
  {
   "cell_type": "code",
   "execution_count": null,
   "metadata": {
    "tags": []
   },
   "outputs": [],
   "source": [
    "nc_ceo_mean = ...\n",
    "nc_ceo_median = ...\n",
    "nc_ceo_sd = ...\n",
    "nc_ceo_mean, nc_ceo_median"
   ]
  },
  {
   "cell_type": "code",
   "execution_count": null,
   "metadata": {
    "deletable": false,
    "editable": false
   },
   "outputs": [],
   "source": [
    "grader.check(\"q16\")"
   ]
  },
  {
   "cell_type": "markdown",
   "metadata": {},
   "source": [
    "## Level V\n",
    "\n",
    "Now we want to visualize the distribution of total pay. First we need to import a plotting module.\n",
    "\n",
    "Run the cell below to load `matplotlib`."
   ]
  },
  {
   "cell_type": "code",
   "execution_count": null,
   "metadata": {},
   "outputs": [],
   "source": [
    "import matplotlib.pyplot as plt\n",
    "plt.style.use(\"fivethirtyeight\")\n",
    "%matplotlib inline"
   ]
  },
  {
   "cell_type": "markdown",
   "metadata": {},
   "source": [
    "<!-- BEGIN QUESTION -->\n",
    "\n",
    "**Question 17.** Make a histogram of the values in the `Total Pay` column. "
   ]
  },
  {
   "cell_type": "code",
   "execution_count": null,
   "metadata": {
    "tags": []
   },
   "outputs": [],
   "source": [
    "# Hide gridlines\n",
    "plt.grid(False)\n",
    "\n",
    "# Add title\n",
    "plt.title(\"Distributions of NC CEO Total Pay\")\n",
    "\n",
    "# Add x label\n",
    "plt.xlabel(\"Total Pay (in millions of dollars)\")\n",
    "\n",
    "# Add y label\n",
    "plt.ylabel(\"Frequency\")\n",
    "\n",
    "# Plot histogram \n",
    "...;"
   ]
  },
  {
   "cell_type": "markdown",
   "metadata": {},
   "source": [
    "<!-- END QUESTION -->\n",
    "\n",
    "Based on our histogram it looks like there are some CEOs that made more than 10 million dollars in total pay."
   ]
  },
  {
   "cell_type": "markdown",
   "metadata": {},
   "source": [
    "**Question 18.** Create a `DataFrame` that contains the name, company, and total pay for the CEOs that made at least 10 million dollars in 2019. Save this to `nc_ceo_10million`, with column names `name`, `company`, `total_pay`.\n",
    "\n",
    "**Hint:** You can create a data frame by specifying the columns and values using a [dictionary](https://www.geeksforgeeks.org/python-dictionary/) as shown [here](https://www.geeksforgeeks.org/creating-a-dataframe-from-pandas-series/) in the **Code \\#2: Creating Dataframe from Series** example. The keys of the [dictionary](https://www.geeksforgeeks.org/python-dictionary/) are the column names, and the values of the [dictionary](https://www.geeksforgeeks.org/python-dictionary/) are lists containing the row entries.\n",
    "\n",
    "**Note:** You can use multiple lines of code to complete this question."
   ]
  },
  {
   "cell_type": "code",
   "execution_count": null,
   "metadata": {
    "tags": []
   },
   "outputs": [],
   "source": [
    "...\n",
    "nc_ceo_10million"
   ]
  },
  {
   "cell_type": "code",
   "execution_count": null,
   "metadata": {
    "deletable": false,
    "editable": false
   },
   "outputs": [],
   "source": [
    "grader.check(\"q18\")"
   ]
  },
  {
   "cell_type": "markdown",
   "metadata": {
    "deletable": false,
    "editable": false
   },
   "source": [
    "---\n",
    "\n",
    "To double-check your work, the cell below will rerun all of the autograder tests."
   ]
  },
  {
   "cell_type": "code",
   "execution_count": null,
   "metadata": {
    "deletable": false,
    "editable": false
   },
   "outputs": [],
   "source": [
    "grader.check_all()"
   ]
  },
  {
   "cell_type": "markdown",
   "metadata": {
    "deletable": false,
    "editable": false
   },
   "source": [
    "## Submission\n",
    "\n",
    "Make sure you have run all cells in your notebook in order before running the cell below, so that all images/graphs appear in the output. The cell below will generate a zip file for you to submit. **Please save before exporting!**\n",
    "\n",
    "When done exporting, download the .zip file by finding it in the file browswer on the left side of the screen, then right-click and select **Download**. You'll submit this .zip file for the assignment in Canvas to Gradescope for grading."
   ]
  },
  {
   "cell_type": "code",
   "execution_count": null,
   "metadata": {
    "deletable": false,
    "editable": false
   },
   "outputs": [],
   "source": [
    "# Save your notebook first, then run this cell to export your submission.\n",
    "grader.export(pdf=False)"
   ]
  },
  {
   "cell_type": "markdown",
   "metadata": {},
   "source": [
    " "
   ]
  }
 ],
 "metadata": {
  "kernelspec": {
   "display_name": "DSC495",
   "language": "python",
   "name": "dsc495"
  },
  "language_info": {
   "codemirror_mode": {
    "name": "ipython",
    "version": 3
   },
   "file_extension": ".py",
   "mimetype": "text/x-python",
   "name": "python",
   "nbconvert_exporter": "python",
   "pygments_lexer": "ipython3",
   "version": "3.10.1"
  },
  "otter": {
   "tests": {
    "q1": {
     "name": "q1",
     "points": null,
     "suites": [
      {
       "cases": [
        {
         "code": ">>> isinstance(multiples_of_99, np.ndarray)\nTrue",
         "hidden": false,
         "locked": false
        },
        {
         "code": ">>> len(multiples_of_99)\n102",
         "hidden": false,
         "locked": false
        }
       ],
       "scored": true,
       "setup": "",
       "teardown": "",
       "type": "doctest"
      }
     ]
    },
    "q10": {
     "name": "q10",
     "points": null,
     "suites": [
      {
       "cases": [
        {
         "code": ">>> isinstance(top_salary, str)\nTrue",
         "hidden": false,
         "locked": false
        }
       ],
       "scored": true,
       "setup": "",
       "teardown": "",
       "type": "doctest"
      }
     ]
    },
    "q11": {
     "name": "q11",
     "points": null,
     "suites": [
      {
       "cases": [
        {
         "code": ">>> isinstance(top_bonus, str)\nTrue",
         "hidden": false,
         "locked": false
        }
       ],
       "scored": true,
       "setup": "",
       "teardown": "",
       "type": "doctest"
      }
     ]
    },
    "q12": {
     "name": "q12",
     "points": null,
     "suites": [
      {
       "cases": [
        {
         "code": ">>> \"\\n\" not in lines_with_spaces\nTrue",
         "hidden": false,
         "locked": false
        },
        {
         "code": ">>> string = ' '.join([str(item) for item in lines_with_spaces])\n>>> string.islower()\nTrue",
         "hidden": false,
         "locked": false
        }
       ],
       "scored": true,
       "setup": "",
       "teardown": "",
       "type": "doctest"
      }
     ]
    },
    "q13": {
     "name": "q13",
     "points": 0.5,
     "suites": [
      {
       "cases": [
        {
         "code": ">>> isinstance(word_count, int)\nTrue",
         "hidden": false,
         "locked": false
        }
       ],
       "scored": true,
       "setup": "",
       "teardown": "",
       "type": "doctest"
      }
     ]
    },
    "q14": {
     "name": "q14",
     "points": 0.5,
     "suites": [
      {
       "cases": [
        {
         "code": ">>> isinstance(vowel_count, int)\nTrue",
         "hidden": false,
         "locked": false
        }
       ],
       "scored": true,
       "setup": "",
       "teardown": "",
       "type": "doctest"
      }
     ]
    },
    "q16": {
     "name": "q16",
     "points": 0,
     "suites": [
      {
       "cases": [
        {
         "code": ">>> nc_ceo_mean\n6332532.0",
         "hidden": false,
         "locked": false
        },
        {
         "code": ">>> nc_ceo_median\n4850813.0",
         "hidden": false,
         "locked": false
        }
       ],
       "scored": true,
       "setup": "",
       "teardown": "",
       "type": "doctest"
      }
     ]
    },
    "q18": {
     "name": "q18",
     "points": 0,
     "suites": [
      {
       "cases": [
        {
         "code": ">>> nc_ceo_10million.shape\n(12, 3)",
         "hidden": false,
         "locked": false
        },
        {
         "code": ">>> nc_ceo_10million.columns\nIndex(['name', 'company', 'total_pay'], dtype='object')",
         "hidden": false,
         "locked": false
        },
        {
         "code": ">>> np.sum(int(nc_ceo_10million['total_pay']))\n",
         "hidden": false,
         "locked": false
        }
       ],
       "scored": true,
       "setup": "",
       "teardown": "",
       "type": "doctest"
      }
     ]
    },
    "q2": {
     "name": "q2",
     "points": null,
     "suites": [
      {
       "cases": [
        {
         "code": ">>> isinstance(population_amounts, pd.core.frame.DataFrame)\nTrue",
         "hidden": false,
         "locked": false
        },
        {
         "code": ">>> population_amounts.shape\n(61, 1)",
         "hidden": false,
         "locked": false
        },
        {
         "code": ">>> np.sum(population_amounts['Population'])\n323331061383",
         "hidden": false,
         "locked": false
        }
       ],
       "scored": true,
       "setup": "",
       "teardown": "",
       "type": "doctest"
      }
     ]
    },
    "q3": {
     "name": "q3",
     "points": null,
     "suites": [
      {
       "cases": [
        {
         "code": ">>> isinstance(population_array, np.ndarray)\nTrue",
         "hidden": false,
         "locked": false
        },
        {
         "code": ">>> len(population_array)\n61",
         "hidden": false,
         "locked": false
        },
        {
         "code": ">>> np.sum(population_array)\n323331061383",
         "hidden": false,
         "locked": false
        }
       ],
       "scored": true,
       "setup": "",
       "teardown": "",
       "type": "doctest"
      }
     ]
    },
    "q4": {
     "name": "q4",
     "points": null,
     "suites": [
      {
       "cases": [
        {
         "code": ">>> population_1983\n4674330282",
         "hidden": false,
         "locked": false
        }
       ],
       "scored": true,
       "setup": "",
       "teardown": "",
       "type": "doctest"
      }
     ]
    },
    "q5": {
     "name": "q5",
     "points": null,
     "suites": [
      {
       "cases": [
        {
         "code": ">>> isinstance(population_in_billions, np.ndarray)\nTrue",
         "hidden": false,
         "locked": false
        },
        {
         "code": ">>> len(population_in_billions)\n61",
         "hidden": false,
         "locked": false
        },
        {
         "code": ">>> sum(population_in_billions)\n323.331061383",
         "hidden": false,
         "locked": false
        }
       ],
       "scored": true,
       "setup": "",
       "teardown": "",
       "type": "doctest"
      }
     ]
    },
    "q6": {
     "name": "q6",
     "points": null,
     "suites": [
      {
       "cases": [
        {
         "code": ">>> isinstance(population_magnitudes, np.ndarray)\nTrue",
         "hidden": false,
         "locked": false
        },
        {
         "code": ">>> len(population_magnitudes)\n61",
         "hidden": false,
         "locked": false
        },
        {
         "code": ">>> sum(population_magnitudes)\n592.1786136553848",
         "hidden": false,
         "locked": false
        }
       ],
       "scored": true,
       "setup": "",
       "teardown": "",
       "type": "doctest"
      }
     ]
    },
    "q7": {
     "name": "q7",
     "points": null,
     "suites": [
      {
       "cases": [
        {
         "code": ">>> isinstance(powers_of_2, np.ndarray)\nTrue",
         "hidden": false,
         "locked": false
        },
        {
         "code": ">>> sum(powers_of_2)\n1073741823",
         "hidden": false,
         "locked": false
        }
       ],
       "scored": true,
       "setup": "",
       "teardown": "",
       "type": "doctest"
      }
     ]
    },
    "q9": {
     "name": "q9",
     "points": null,
     "suites": [
      {
       "cases": [
        {
         "code": ">>> raleigh_ceo_salaries.shape\n(8, 12)",
         "hidden": false,
         "locked": false
        },
        {
         "code": ">>> isinstance(raleigh_ceo_salaries, pd.core.frame.DataFrame)\nTrue",
         "hidden": false,
         "locked": false
        }
       ],
       "scored": true,
       "setup": "",
       "teardown": "",
       "type": "doctest"
      }
     ]
    }
   }
  }
 },
 "nbformat": 4,
 "nbformat_minor": 4
}
