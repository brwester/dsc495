{
 "cells": [
  {
   "cell_type": "code",
   "execution_count": null,
   "metadata": {
    "deletable": false,
    "editable": false
   },
   "outputs": [],
   "source": [
    "# Initialize Otter\n",
    "import otter\n",
    "grader = otter.Notebook(\"dsc495_0019_a4.ipynb\")"
   ]
  },
  {
   "cell_type": "markdown",
   "metadata": {
    "id": "Z2iI3JeRWGW1"
   },
   "source": [
    "# Assignment 4\n",
    "\n",
    "## Due: Tuesday, February 8, 2022 @ 11:59pm\n",
    "\n",
    "In this assignment we will get more familiar with Python dictionaries, `.loc`, `'iloc`, and user-defined functions.\n",
    "\n",
    "I would like you to attempt each level of the assignment. They get progressively harder. To get **full credit** on this assignment, you must complete the first three levels (Levels I, II, and III). Levels IV and V give you a chance to work with some more advanced printing freatures in Python.\n",
    "\n",
    "**Note:** Try not to delete the instructions of the assignment.\n",
    "\n",
    "In the markdown cell below enter your name, section, and the date."
   ]
  },
  {
   "cell_type": "markdown",
   "metadata": {
    "id": "xC3V5EVtWGW2"
   },
   "source": [
    "**Name:** \n",
    "\n",
    "**Section:** \n",
    "\n",
    "**Date:**"
   ]
  },
  {
   "cell_type": "markdown",
   "metadata": {},
   "source": [
    "## Level I\n",
    "\n",
    "### `DataFrames`\n",
    "\n",
    "In this assignment we will look at a dataset of wind turbines located in the U.S."
   ]
  },
  {
   "cell_type": "markdown",
   "metadata": {},
   "source": [
    "**Question 1.** Import `pandas` as `pd` read the `wind_turbines.csv` file and store it in `turbines`."
   ]
  },
  {
   "cell_type": "code",
   "execution_count": null,
   "metadata": {
    "tags": []
   },
   "outputs": [],
   "source": [
    "# Imoprt the pandas package\n",
    "import ... as pd\n",
    "\n",
    "turbines = \n",
    "turbines"
   ]
  },
  {
   "cell_type": "code",
   "execution_count": null,
   "metadata": {
    "deletable": false,
    "editable": false
   },
   "outputs": [],
   "source": [
    "grader.check(\"q1\")"
   ]
  },
  {
   "cell_type": "markdown",
   "metadata": {},
   "source": [
    "## Level II\n",
    "\n",
    "Theere is no way (at least no way that I know of) for you to learn and remember all the methods for a `pandas` `DataFrame`. As a data scientist being able to search for help on the internet and read the documentation are two essential skills. We will practice using them in the next two sections."
   ]
  },
  {
   "cell_type": "markdown",
   "metadata": {},
   "source": [
    "**Question 2.** List out all the locations that have a wind turbine. Save this to a **list** named `turbine_locations`. There are 43 different locations in the dataset. You can type out all the locations, *or* you can do a search on the following\n",
    "\n",
    "* \"How do list the unique values in a pandas column\"\n",
    "\n",
    "* \"How do I convert an array to a list\"\n",
    "\n",
    "then implement a solution programatically (i.e. using code). The choice is yours, the check is only to make sure you get all the locations correct."
   ]
  },
  {
   "cell_type": "code",
   "execution_count": null,
   "metadata": {
    "tags": []
   },
   "outputs": [],
   "source": [
    "turbine_locations = ...\n",
    "print(turbine_locations)"
   ]
  },
  {
   "cell_type": "code",
   "execution_count": null,
   "metadata": {
    "deletable": false,
    "editable": false
   },
   "outputs": [],
   "source": [
    "grader.check(\"q2\")"
   ]
  },
  {
   "cell_type": "markdown",
   "metadata": {},
   "source": [
    "You may have noticed that there are locations that are not US states. Let's make another list that only includes US locations."
   ]
  },
  {
   "cell_type": "markdown",
   "metadata": {},
   "source": [
    "**Question 3.** Use list comprehension to remove the non US locations from the `turbine_locations` list. Save this to another list named `us_turbine_locations`. To earn all the points for this question you **must** to use list comprehension.\n",
    "\n",
    "**Hint:** You will need to use an `if` statement in your list comprehension. You can do a search on the following:\n",
    "\n",
    "* \"How do I use an `if` stement in a list comprehension\"\n",
    "\n",
    "**Warning:** If you use one of the list methods (e.g. `.remove`, `.pop`) or the `del` function you will change the original list and cause Gradescope to mark **Question 2.** as incorrect."
   ]
  },
  {
   "cell_type": "code",
   "execution_count": null,
   "metadata": {
    "tags": []
   },
   "outputs": [],
   "source": [
    "us_turbine_locations = ...\n",
    "print(us_turbine_locations)"
   ]
  },
  {
   "cell_type": "code",
   "execution_count": null,
   "metadata": {
    "deletable": false,
    "editable": false
   },
   "outputs": [],
   "source": [
    "grader.check(\"q3\")"
   ]
  },
  {
   "cell_type": "markdown",
   "metadata": {},
   "source": [
    "Suppose we are interested in the number of wind turbines in each loacation."
   ]
  },
  {
   "cell_type": "markdown",
   "metadata": {},
   "source": [
    "<!-- BEGIN QUESTION -->\n",
    "\n",
    "**Question 4.** Make a dataframe that contains the number of tubines in each location (i.e. use `turbine_locations`). You do not need to save the output to an object. This question will be manually graded.\n",
    "\n",
    "**Hints:** \n",
    "\n",
    "* You can use the `.groupby` dataframe method to group values of a dataframe on one or more column values. \n",
    "\n",
    "* You can use the pandas `groupby` `size()` function to count the number of rows in each group of a `groupby` object.\n",
    "\n",
    "* You can use the `.to_frame()` `Series` method to convert a series object to a dataframe.\n",
    "\n",
    "**Remember** in this section you are practicing looking up documentation/help/possible solutions on the internet. You can do a search on the following:\n",
    "\n",
    "* \"How do I use `.groupby` to group values in a dataframe\"\n",
    "\n",
    "* How do I count the number of rows in each group of a `groupby` object\"\n",
    "\n",
    "* How do I use the `.to_frame()` `Series` method\"\n",
    "\n",
    "If your code is correct you should see something that looks like the following\n",
    "\n",
    "|                |**0**|\n",
    "|----------------|-----|\n",
    "| **Site.State** |     |\n",
    "|**AK**          | 120 |\n",
    "|**AZ**          | 144 |\n",
    "|**CA**          | 4078|\n",
    "|**CO**          | 2283|\n",
    "\n"
   ]
  },
  {
   "cell_type": "code",
   "execution_count": null,
   "metadata": {
    "tags": []
   },
   "outputs": [],
   "source": [
    "..."
   ]
  },
  {
   "cell_type": "markdown",
   "metadata": {},
   "source": [
    "<!-- END QUESTION -->\n",
    "\n",
    "## Level III\n",
    "\n",
    "We are interested in the number of turbines in each location."
   ]
  },
  {
   "cell_type": "markdown",
   "metadata": {},
   "source": [
    "**Question 4.** Set `turbine_counts` to the dataframe you displayed in **Question 4.**. Change the name of the column with the total number of turbines to `Count`. \n",
    "\n",
    "**Hint:** The `to_frame` method has an opitonal parameter/argument called `name`. Click [here](https://pandas.pydata.org/docs/reference/api/pandas.Series.to_frame.html) to read the documentation."
   ]
  },
  {
   "cell_type": "code",
   "execution_count": null,
   "metadata": {
    "tags": []
   },
   "outputs": [],
   "source": [
    "turbine_counts = turbines.groupby(['Site.State']).size().to_frame(name=\"Count\")\n",
    "turbine_counts.head()"
   ]
  },
  {
   "cell_type": "code",
   "execution_count": null,
   "metadata": {
    "deletable": false,
    "editable": false
   },
   "outputs": [],
   "source": [
    "grader.check(\"q4\")"
   ]
  },
  {
   "cell_type": "markdown",
   "metadata": {},
   "source": [
    "#### Slicing \n",
    "\n",
    "Now we will get some practice slicing a datafame by index values."
   ]
  },
  {
   "cell_type": "markdown",
   "metadata": {},
   "source": [
    "**Question 5.** Create a new dataframe named `turbines_state_idx` that has the state name as the index."
   ]
  },
  {
   "cell_type": "code",
   "execution_count": null,
   "metadata": {
    "tags": []
   },
   "outputs": [],
   "source": [
    "turbines_state_idx = ...\n",
    "turbines_state_idx.head()"
   ]
  },
  {
   "cell_type": "code",
   "execution_count": null,
   "metadata": {
    "deletable": false,
    "editable": false
   },
   "outputs": [],
   "source": [
    "grader.check(\"q5\")"
   ]
  },
  {
   "cell_type": "markdown",
   "metadata": {},
   "source": [
    "<!-- BEGIN QUESTION -->\n",
    "\n",
    "**Question 6.** Select all the rows from the `turbines_state_idx` in which the state is North Carolina. You only need to display the dataframe."
   ]
  },
  {
   "cell_type": "code",
   "execution_count": null,
   "metadata": {
    "tags": []
   },
   "outputs": [],
   "source": [
    "..."
   ]
  },
  {
   "cell_type": "markdown",
   "metadata": {},
   "source": [
    "<!-- END QUESTION -->\n",
    "\n",
    "<!-- BEGIN QUESTION -->\n",
    "\n",
    "**Question 7.** Select all the rows from the `turbines_state_idx` in which the location is not a US state. You only need to display the dataframe."
   ]
  },
  {
   "cell_type": "code",
   "execution_count": null,
   "metadata": {
    "tags": []
   },
   "outputs": [],
   "source": [
    "..."
   ]
  },
  {
   "cell_type": "markdown",
   "metadata": {},
   "source": [
    "<!-- END QUESTION -->\n",
    "\n",
    "## Dictionaries\n",
    "\n",
    "Let make some dictionaries. As a reminder, a dictionary is an unordered and mutable Python container that stores mappings of unique keys to values. Dictionaries are written with curly brackets (`{ }`), including key-value pairs separated by commas (`,`). A colon (`:`) separates each key from its value."
   ]
  },
  {
   "cell_type": "markdown",
   "metadata": {},
   "source": [
    "**Question 8.** There are two lists in the cell below. Use the `zip` combine the two lists into a dictionary. Save the object to `state_count_zip`. To earn all the points for this question you **must** use the `zip` function."
   ]
  },
  {
   "cell_type": "code",
   "execution_count": null,
   "metadata": {
    "tags": []
   },
   "outputs": [],
   "source": [
    "location_key = ['AK', 'AZ', 'CA', 'CO', 'CT', 'DE', 'GU', \n",
    "                'HI', 'IA', 'ID', 'IL', 'IN', 'KS', 'MA',\n",
    "                'MD', 'ME', 'MI', 'MN', 'MO', 'MT', 'NC',\n",
    "                'ND', 'NE', 'NH', 'NJ', 'NM', 'NV', 'NY', \n",
    "                'OH', 'OK', 'OR', 'PA', 'PR', 'RI', 'SD', \n",
    "                'TN', 'TX', 'UT', 'VT', 'WA', 'WI', 'WV', \n",
    "                'WY']\n",
    "\n",
    "location_value = [120, 144, 4078, 2283, 2, 1, 1, 119, 4613, \n",
    "                  541, 2749, 1264, 2989, 84, 77, 384, 1048, \n",
    "                  2460, 503, 508, 104, 1644, 973, 75, 6, 950, \n",
    "                  66, 1125, 375, 3965, 1866, 734, 60, 32, 599, \n",
    "                  18, 13354, 205, 71, 1727, 450, 375, 1004]\n",
    "\n",
    "state_count_zip = ...\n",
    "print(state_count_zip)"
   ]
  },
  {
   "cell_type": "code",
   "execution_count": null,
   "metadata": {
    "deletable": false,
    "editable": false
   },
   "outputs": [],
   "source": [
    "grader.check(\"q8\")"
   ]
  },
  {
   "cell_type": "markdown",
   "metadata": {},
   "source": [
    "**Question 9.** There are two lists in the cell below (the same two lists from the previous question). Use a `for` loop to combine the two lists into a dictionary. Save the object to `state_count_for`. To earn all the points for this question you **must** use a `for` loop."
   ]
  },
  {
   "cell_type": "code",
   "execution_count": null,
   "metadata": {
    "tags": []
   },
   "outputs": [],
   "source": [
    "location_key = ['AK', 'AZ', 'CA', 'CO', 'CT', 'DE', 'GU', \n",
    "                'HI', 'IA', 'ID', 'IL', 'IN', 'KS', 'MA',\n",
    "                'MD', 'ME', 'MI', 'MN', 'MO', 'MT', 'NC',\n",
    "                'ND', 'NE', 'NH', 'NJ', 'NM', 'NV', 'NY', \n",
    "                'OH', 'OK', 'OR', 'PA', 'PR', 'RI', 'SD', \n",
    "                'TN', 'TX', 'UT', 'VT', 'WA', 'WI', 'WV', \n",
    "                'WY']\n",
    "\n",
    "location_value = [120, 144, 4078, 2283, 2, 1, 1, 119, 4613, \n",
    "                  541, 2749, 1264, 2989, 84, 77, 384, 1048, \n",
    "                  2460, 503, 508, 104, 1644, 973, 75, 6, 950, \n",
    "                  66, 1125, 375, 3965, 1866, 734, 60, 32, 599, \n",
    "                  18, 13354, 205, 71, 1727, 450, 375, 1004]\n",
    "\n",
    "state_count_for = ...\n",
    "\n",
    "for ...\n",
    "print(state_count_for)"
   ]
  },
  {
   "cell_type": "code",
   "execution_count": null,
   "metadata": {
    "deletable": false,
    "editable": false
   },
   "outputs": [],
   "source": [
    "grader.check(\"q9\")"
   ]
  },
  {
   "cell_type": "markdown",
   "metadata": {},
   "source": [
    "## Level IV\n",
    "\n",
    "### Counting Words\n",
    "\n",
    "Run the cell below to load the text form all 53 chapters of *Oliver Twist* by charles Dickens and print the first paragraph in Chapter I."
   ]
  },
  {
   "cell_type": "code",
   "execution_count": null,
   "metadata": {},
   "outputs": [],
   "source": [
    "with open('data/charles-dickens-oliver-twist.txt', 'r') as f:\n",
    "    ot = f.read()\n",
    "\n",
    "print(ot[:523])"
   ]
  },
  {
   "cell_type": "markdown",
   "metadata": {},
   "source": [
    "<!-- BEGIN QUESTION -->\n",
    "\n",
    "**Question 10.** Print out the last 250 characters of the book."
   ]
  },
  {
   "cell_type": "code",
   "execution_count": null,
   "metadata": {
    "tags": []
   },
   "outputs": [],
   "source": [
    "..."
   ]
  },
  {
   "cell_type": "markdown",
   "metadata": {},
   "source": [
    "<!-- END QUESTION -->\n",
    "\n",
    "**Question 11.** Replace all the `\\n` characters with a space `' '`. Save this string to `ot_with_spaces`."
   ]
  },
  {
   "cell_type": "code",
   "execution_count": null,
   "metadata": {
    "tags": []
   },
   "outputs": [],
   "source": [
    "ot_with_spaces = ...\n",
    "ot_with_spaces[:250]"
   ]
  },
  {
   "cell_type": "code",
   "execution_count": null,
   "metadata": {
    "deletable": false,
    "editable": false
   },
   "outputs": [],
   "source": [
    "grader.check(\"q11\")"
   ]
  },
  {
   "cell_type": "markdown",
   "metadata": {},
   "source": [
    "**Question 12.** Split the text up via spaces in the string `ot_with_spaces`. Make sure all the words are lowercase. Save this to a list named `ot_list_of_words`."
   ]
  },
  {
   "cell_type": "code",
   "execution_count": null,
   "metadata": {
    "tags": []
   },
   "outputs": [],
   "source": [
    "ot_list_of_words = [word.lower() for word in ot_with_spaces.split(\" \")]\n",
    "print(ot_list_of_words[0:10])"
   ]
  },
  {
   "cell_type": "code",
   "execution_count": null,
   "metadata": {
    "deletable": false,
    "editable": false
   },
   "outputs": [],
   "source": [
    "grader.check(\"q12\")"
   ]
  },
  {
   "cell_type": "markdown",
   "metadata": {},
   "source": [
    "## Level V\n",
    "\n",
    "### Word Count Dictionary\n",
    "\n",
    "Out goal is to build a word count dictionary where the key is the word and the value is the number of occurances of the word in the text. We will do this in steps."
   ]
  },
  {
   "cell_type": "markdown",
   "metadata": {},
   "source": [
    "**Question 13.** Remove all the punctuation and special characters from the elements in the list `ot_list_of_words`. Save the the result to a list named `ot_list_wo_punctuation`.\n",
    "\n",
    "**Hint:** You can use the object `string.punctuation` from the `string` module. The `string.punctuation` object contains a string of all the punctuation symbols and special characters.\n",
    "\n",
    "```\n",
    "import string \n",
    "string.punctuation\n",
    "```"
   ]
  },
  {
   "cell_type": "code",
   "execution_count": null,
   "metadata": {
    "tags": []
   },
   "outputs": [],
   "source": [
    "import string \n",
    "string.punctuation\n",
    "# Initialize empty list\n",
    "ot_list_wo_punctuation = ...\n",
    "\n",
    "# Loop over the list of words and remove \n",
    "# punctuation and special characters\n",
    "...\n",
    "print(ot_list_wo_punctuation[0:50])"
   ]
  },
  {
   "cell_type": "code",
   "execution_count": null,
   "metadata": {
    "deletable": false,
    "editable": false
   },
   "outputs": [],
   "source": [
    "grader.check(\"q13\")"
   ]
  },
  {
   "cell_type": "markdown",
   "metadata": {},
   "source": [
    "**Question 14.** Iterate through the words in `ot_list_wo_punctuation` and count the number of times each word occurs. Store the count in a dictionary where the key is the word and the number of occurances of the word is the count. Do not count the blank spaces. Store the dictionary in `ot_word_count_dict`. For example,\n",
    "\n",
    "```\n",
    "{'among': 56,\n",
    " 'other': 227,\n",
    " 'public': 20, \n",
    " ... }\n",
    "```"
   ]
  },
  {
   "cell_type": "code",
   "execution_count": null,
   "metadata": {
    "tags": []
   },
   "outputs": [],
   "source": [
    "# Initialize an empty dictionary\n",
    "ot_word_count_dict = ...\n",
    "\n",
    "# Loop over the list of words and remove \n",
    "# punctuation and special characters\n",
    "...\n",
    "list(ot_word_count_dict)[:10]"
   ]
  },
  {
   "cell_type": "code",
   "execution_count": null,
   "metadata": {
    "deletable": false,
    "editable": false
   },
   "outputs": [],
   "source": [
    "grader.check(\"q14\")"
   ]
  },
  {
   "cell_type": "markdown",
   "metadata": {},
   "source": [
    "<!-- BEGIN QUESTION -->\n",
    "\n",
    "**Question 15.** Use a loop to the first 20 key/value pairs in the dictionary. For example,\n",
    "\n",
    "```\n",
    "among': 56\n",
    "other': 227\n",
    "public': 20\n",
    "buildings : 4\n",
    "in : 2351\n",
    "a : 3668\n",
    "...\n",
    "```"
   ]
  },
  {
   "cell_type": "code",
   "execution_count": null,
   "metadata": {
    "tags": []
   },
   "outputs": [],
   "source": [
    "..."
   ]
  },
  {
   "cell_type": "markdown",
   "metadata": {},
   "source": [
    "<!-- END QUESTION -->\n",
    "\n"
   ]
  },
  {
   "cell_type": "markdown",
   "metadata": {
    "deletable": false,
    "editable": false
   },
   "source": [
    "---\n",
    "\n",
    "To double-check your work, the cell below will rerun all of the autograder tests."
   ]
  },
  {
   "cell_type": "code",
   "execution_count": null,
   "metadata": {
    "deletable": false,
    "editable": false
   },
   "outputs": [],
   "source": [
    "grader.check_all()"
   ]
  },
  {
   "cell_type": "markdown",
   "metadata": {
    "deletable": false,
    "editable": false
   },
   "source": [
    "## Submission\n",
    "\n",
    "Make sure you have run all cells in your notebook in order before running the cell below, so that all images/graphs appear in the output. The cell below will generate a zip file for you to submit. **Please save before exporting!**\n",
    "\n",
    "When done exporting, download the .zip file by finding it in the file browswer on the left side of the screen, then right-click and select **Download**. You'll submit this .zip file for the assignment in Canvas to Gradescope for grading."
   ]
  },
  {
   "cell_type": "code",
   "execution_count": null,
   "metadata": {
    "deletable": false,
    "editable": false
   },
   "outputs": [],
   "source": [
    "# Save your notebook first, then run this cell to export your submission.\n",
    "grader.export(pdf=False)"
   ]
  },
  {
   "cell_type": "markdown",
   "metadata": {},
   "source": [
    " "
   ]
  }
 ],
 "metadata": {
  "kernelspec": {
   "display_name": "DSC495",
   "language": "python",
   "name": "dsc495"
  },
  "language_info": {
   "codemirror_mode": {
    "name": "ipython",
    "version": 3
   },
   "file_extension": ".py",
   "mimetype": "text/x-python",
   "name": "python",
   "nbconvert_exporter": "python",
   "pygments_lexer": "ipython3",
   "version": "3.10.1"
  },
  "otter": {
   "tests": {
    "q1": {
     "name": "q1",
     "points": null,
     "suites": [
      {
       "cases": [
        {
         "code": ">>> isinstance(turbines, pd.core.frame.DataFrame)\nTrue",
         "hidden": false,
         "locked": false
        },
        {
         "code": ">>> turbines.shape\n(53746, 12)",
         "hidden": false,
         "locked": false
        }
       ],
       "scored": true,
       "setup": "",
       "teardown": "",
       "type": "doctest"
      }
     ]
    },
    "q11": {
     "name": "q11",
     "points": 0,
     "suites": [
      {
       "cases": [
        {
         "code": ">>> '\\n' not in ot_with_spaces\nTrue",
         "hidden": false,
         "locked": false
        }
       ],
       "scored": true,
       "setup": "",
       "teardown": "",
       "type": "doctest"
      }
     ]
    },
    "q12": {
     "name": "q12",
     "points": 0,
     "suites": [
      {
       "cases": [
        {
         "code": ">>> len(ot_list_of_words)\n164103",
         "hidden": false,
         "locked": false
        },
        {
         "code": ">>> all([word.lower() == word for word in ot_list_of_words])\nTrue",
         "hidden": false,
         "locked": false
        }
       ],
       "scored": true,
       "setup": "",
       "teardown": "",
       "type": "doctest"
      }
     ]
    },
    "q13": {
     "name": "q13",
     "points": 0,
     "suites": [
      {
       "cases": [
        {
         "code": ">>> len(ot_list_wo_punctuation)\n164103",
         "hidden": false,
         "locked": false
        },
        {
         "code": ">>> all([char not in string.punctuation for word in ot_list_wo_punctuation for char in word])\nTrue",
         "hidden": false,
         "locked": false
        }
       ],
       "scored": true,
       "setup": "",
       "teardown": "",
       "type": "doctest"
      }
     ]
    },
    "q14": {
     "name": "q14",
     "points": 0,
     "suites": [
      {
       "cases": [
        {
         "code": ">>> len(ot_word_count_dict)\n11190",
         "hidden": false,
         "locked": false
        },
        {
         "code": ">>> [56, 3668, 1137, 227] == [ot_word_count_dict['among'], ot_word_count_dict['a'], ot_word_count_dict['for'], ot_word_count_dict['other']]\nTrue",
         "hidden": false,
         "locked": false
        }
       ],
       "scored": true,
       "setup": "",
       "teardown": "",
       "type": "doctest"
      }
     ]
    },
    "q2": {
     "name": "q2",
     "points": null,
     "suites": [
      {
       "cases": [
        {
         "code": ">>> len(turbine_locations)\n43",
         "hidden": false,
         "locked": false
        }
       ],
       "scored": true,
       "setup": "",
       "teardown": "",
       "type": "doctest"
      }
     ]
    },
    "q3": {
     "name": "q3",
     "points": 0.5,
     "suites": [
      {
       "cases": [
        {
         "code": ">>> len(us_turbine_locations)\n41",
         "hidden": false,
         "locked": false
        }
       ],
       "scored": true,
       "setup": "",
       "teardown": "",
       "type": "doctest"
      }
     ]
    },
    "q4": {
     "name": "q4",
     "points": null,
     "suites": [
      {
       "cases": [
        {
         "code": ">>> turbine_counts.shape\n(43, 1)",
         "hidden": false,
         "locked": false
        },
        {
         "code": ">>> turbine_counts.index\nIndex(['AK', 'AZ', 'CA', 'CO', 'CT', 'DE', 'GU', 'HI', 'IA', 'ID', 'IL', 'IN',\n       'KS', 'MA', 'MD', 'ME', 'MI', 'MN', 'MO', 'MT', 'NC', 'ND', 'NE', 'NH',\n       'NJ', 'NM', 'NV', 'NY', 'OH', 'OK', 'OR', 'PA', 'PR', 'RI', 'SD', 'TN',\n       'TX', 'UT', 'VT', 'WA', 'WI', 'WV', 'WY'],\n      dtype='object', name='Site.State')",
         "hidden": false,
         "locked": false
        },
        {
         "code": ">>> [120, 71, 60, 1] == [turbine_counts.loc['AK'][0], turbine_counts.loc['VT'][0], turbine_counts.loc['PR'][0], turbine_counts.loc['GU'][0]]\nTrue",
         "hidden": false,
         "locked": false
        }
       ],
       "scored": true,
       "setup": "",
       "teardown": "",
       "type": "doctest"
      }
     ]
    },
    "q5": {
     "name": "q5",
     "points": null,
     "suites": [
      {
       "cases": [
        {
         "code": ">>> isinstance(turbines_state_idx, pd.core.frame.DataFrame)\nTrue",
         "hidden": false,
         "locked": false
        },
        {
         "code": ">>> turbines_state_idx.index\nIndex(['IA', 'IA', 'IA', 'IA', 'IA', 'IA', 'IA', 'IA', 'IA', 'IA',\n       ...\n       'ID', 'ID', 'ID', 'IA', 'IA', 'OH', 'OH', 'OH', 'NY', 'NY'],\n      dtype='object', name='Site.State', length=53746)",
         "hidden": false,
         "locked": false
        }
       ],
       "scored": true,
       "setup": "",
       "teardown": "",
       "type": "doctest"
      }
     ]
    },
    "q8": {
     "name": "q8",
     "points": 0.5,
     "suites": [
      {
       "cases": [
        {
         "code": ">>> isinstance(state_count_zip, dict)\nTrue",
         "hidden": false,
         "locked": false
        },
        {
         "code": ">>> len(state_count_zip)\n43",
         "hidden": false,
         "locked": false
        }
       ],
       "scored": true,
       "setup": "",
       "teardown": "",
       "type": "doctest"
      }
     ]
    },
    "q9": {
     "name": "q9",
     "points": 0.5,
     "suites": [
      {
       "cases": [
        {
         "code": ">>> isinstance(state_count_for, dict)\nTrue",
         "hidden": false,
         "locked": false
        },
        {
         "code": ">>> len(state_count_for)\n43",
         "hidden": false,
         "locked": false
        }
       ],
       "scored": true,
       "setup": "",
       "teardown": "",
       "type": "doctest"
      }
     ]
    }
   }
  }
 },
 "nbformat": 4,
 "nbformat_minor": 4
}
